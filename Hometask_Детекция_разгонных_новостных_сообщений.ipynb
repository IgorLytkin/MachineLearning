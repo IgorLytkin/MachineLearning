{
  "nbformat": 4,
  "nbformat_minor": 0,
  "metadata": {
    "colab": {
      "name": "Hometask - Детекция разгонных новостных сообщений.ipynb",
      "provenance": [],
      "collapsed_sections": [],
      "toc_visible": true,
      "include_colab_link": true
    },
    "kernelspec": {
      "name": "python3",
      "display_name": "Python 3"
    },
    "language_info": {
      "name": "python"
    }
  },
  "cells": [
    {
      "cell_type": "markdown",
      "metadata": {
        "id": "view-in-github",
        "colab_type": "text"
      },
      "source": [
        "<a href=\"https://colab.research.google.com/github/IgorLytkin/MachineLearning/blob/main/Hometask_%D0%94%D0%B5%D1%82%D0%B5%D0%BA%D1%86%D0%B8%D1%8F_%D1%80%D0%B0%D0%B7%D0%B3%D0%BE%D0%BD%D0%BD%D1%8B%D1%85_%D0%BD%D0%BE%D0%B2%D0%BE%D1%81%D1%82%D0%BD%D1%8B%D1%85_%D1%81%D0%BE%D0%BE%D0%B1%D1%89%D0%B5%D0%BD%D0%B8%D0%B9.ipynb\" target=\"_parent\"><img src=\"https://colab.research.google.com/assets/colab-badge.svg\" alt=\"Open In Colab\"/></a>"
      ]
    },
    {
      "cell_type": "markdown",
      "metadata": {
        "id": "HtEUZVN31RHv"
      },
      "source": [
        "#Intro"
      ]
    },
    {
      "cell_type": "code",
      "metadata": {
        "id": "ZD15nUKU4J7Q"
      },
      "source": [
        "%tensorflow_version 2.x"
      ],
      "execution_count": null,
      "outputs": []
    },
    {
      "cell_type": "code",
      "metadata": {
        "colab": {
          "base_uri": "https://localhost:8080/"
        },
        "id": "98YjgWFwUCxv",
        "outputId": "5e5f5db7-ec62-49ee-df55-8731054132ba"
      },
      "source": [
        "!pip install pymorphy2\n",
        "!pip install razdel\n",
        "\n",
        "import nltk\n",
        "nltk.download('stopwords')"
      ],
      "execution_count": null,
      "outputs": [
        {
          "output_type": "stream",
          "name": "stdout",
          "text": [
            "Collecting pymorphy2\n",
            "  Downloading pymorphy2-0.9.1-py3-none-any.whl (55 kB)\n",
            "\u001b[?25l\r\u001b[K     |██████                          | 10 kB 23.4 MB/s eta 0:00:01\r\u001b[K     |███████████▉                    | 20 kB 30.6 MB/s eta 0:00:01\r\u001b[K     |█████████████████▊              | 30 kB 15.8 MB/s eta 0:00:01\r\u001b[K     |███████████████████████▋        | 40 kB 11.9 MB/s eta 0:00:01\r\u001b[K     |█████████████████████████████▌  | 51 kB 10.3 MB/s eta 0:00:01\r\u001b[K     |████████████████████████████████| 55 kB 2.9 MB/s \n",
            "\u001b[?25hRequirement already satisfied: docopt>=0.6 in /usr/local/lib/python3.7/dist-packages (from pymorphy2) (0.6.2)\n",
            "Collecting pymorphy2-dicts-ru<3.0,>=2.4\n",
            "  Downloading pymorphy2_dicts_ru-2.4.417127.4579844-py2.py3-none-any.whl (8.2 MB)\n",
            "\u001b[K     |████████████████████████████████| 8.2 MB 20.2 MB/s \n",
            "\u001b[?25hCollecting dawg-python>=0.7.1\n",
            "  Downloading DAWG_Python-0.7.2-py2.py3-none-any.whl (11 kB)\n",
            "Installing collected packages: pymorphy2-dicts-ru, dawg-python, pymorphy2\n",
            "Successfully installed dawg-python-0.7.2 pymorphy2-0.9.1 pymorphy2-dicts-ru-2.4.417127.4579844\n",
            "Collecting razdel\n",
            "  Downloading razdel-0.5.0-py3-none-any.whl (21 kB)\n",
            "Installing collected packages: razdel\n",
            "Successfully installed razdel-0.5.0\n",
            "[nltk_data] Downloading package stopwords to /root/nltk_data...\n",
            "[nltk_data]   Unzipping corpora/stopwords.zip.\n"
          ]
        },
        {
          "output_type": "execute_result",
          "data": {
            "text/plain": [
              "True"
            ]
          },
          "metadata": {},
          "execution_count": 3
        }
      ]
    },
    {
      "cell_type": "code",
      "metadata": {
        "id": "fkkHpx7F4MAI"
      },
      "source": [
        "from tensorflow import keras\n",
        "from tensorflow.keras import layers\n",
        "\n",
        "import numpy as np\n",
        "import pandas as pd\n",
        "import os\n",
        "import glob\n",
        "import pymorphy2\n",
        "from razdel import tokenize\n",
        "from tqdm import tqdm\n",
        "tqdm.pandas()\n",
        "from nltk.corpus import stopwords as nltk_stopwords\n",
        "\n",
        "from sklearn.feature_extraction.text import CountVectorizer, TfidfVectorizer\n",
        "from sklearn.ensemble import RandomForestClassifier\n",
        "from sklearn.metrics import accuracy_score, precision_score, recall_score, f1_score, log_loss\n",
        "from sklearn import model_selection\n",
        "from sklearn import pipeline\n",
        "from sklearn.neighbors import KNeighborsClassifier\n",
        "\n",
        "from sklearn.model_selection import train_test_split, KFold, GridSearchCV\n",
        "from sklearn.linear_model import LogisticRegressionCV\n",
        "\n",
        "import matplotlib\n",
        "from matplotlib import pyplot as plt\n",
        "matplotlib.pyplot.style.use('ggplot')\n",
        "%matplotlib inline"
      ],
      "execution_count": null,
      "outputs": []
    },
    {
      "cell_type": "code",
      "metadata": {
        "colab": {
          "base_uri": "https://localhost:8080/"
        },
        "id": "HFwERUM43Z6B",
        "outputId": "9488aa3c-1da1-45ee-acc3-81a7b1e7e799"
      },
      "source": [
        "from google.colab import drive\n",
        "drive.mount('/content/drive')"
      ],
      "execution_count": null,
      "outputs": [
        {
          "output_type": "stream",
          "name": "stdout",
          "text": [
            "Mounted at /content/drive\n"
          ]
        }
      ]
    },
    {
      "cell_type": "markdown",
      "metadata": {
        "id": "8aSm7Gvs0Fsv"
      },
      "source": [
        "#Загрузка News"
      ]
    },
    {
      "cell_type": "markdown",
      "metadata": {
        "id": "TigeQEnfq9yf"
      },
      "source": [
        "##Загрузка marked_news"
      ]
    },
    {
      "cell_type": "code",
      "metadata": {
        "id": "7qqLuMNe3cfF"
      },
      "source": [
        "marked_news = pd.read_csv(\"/content/drive/My Drive/Fraud_Finance_Data/News/marked_news.csv\"\n",
        "                            , delimiter=';'\n",
        "                            # , nrows=5\n",
        "                          )\n",
        "marked_news  = marked_news.rename(columns={\"class\": \"target\"})"
      ],
      "execution_count": null,
      "outputs": []
    },
    {
      "cell_type": "code",
      "metadata": {
        "colab": {
          "base_uri": "https://localhost:8080/"
        },
        "id": "O9T84IkNKm2V",
        "outputId": "ad697777-fa94-4d80-d881-fe99963a9f89"
      },
      "source": [
        "marked_news.shape"
      ],
      "execution_count": null,
      "outputs": [
        {
          "output_type": "execute_result",
          "data": {
            "text/plain": [
              "(9404, 14)"
            ]
          },
          "metadata": {},
          "execution_count": 57
        }
      ]
    },
    {
      "cell_type": "code",
      "metadata": {
        "colab": {
          "base_uri": "https://localhost:8080/",
          "height": 193
        },
        "id": "WtV6LzBgKfPW",
        "outputId": "aad9d7e1-4c25-480c-b0c3-db044508763e"
      },
      "source": [
        "marked_news.head(3)"
      ],
      "execution_count": null,
      "outputs": [
        {
          "output_type": "execute_result",
          "data": {
            "text/html": [
              "<div>\n",
              "<style scoped>\n",
              "    .dataframe tbody tr th:only-of-type {\n",
              "        vertical-align: middle;\n",
              "    }\n",
              "\n",
              "    .dataframe tbody tr th {\n",
              "        vertical-align: top;\n",
              "    }\n",
              "\n",
              "    .dataframe thead th {\n",
              "        text-align: right;\n",
              "    }\n",
              "</style>\n",
              "<table border=\"1\" class=\"dataframe\">\n",
              "  <thead>\n",
              "    <tr style=\"text-align: right;\">\n",
              "      <th></th>\n",
              "      <th>channel</th>\n",
              "      <th>channel_id</th>\n",
              "      <th>members</th>\n",
              "      <th>post_id</th>\n",
              "      <th>date</th>\n",
              "      <th>url</th>\n",
              "      <th>views</th>\n",
              "      <th>cover_ratio</th>\n",
              "      <th>ticker</th>\n",
              "      <th>text</th>\n",
              "      <th>author</th>\n",
              "      <th>likes</th>\n",
              "      <th>tickers</th>\n",
              "      <th>class</th>\n",
              "    </tr>\n",
              "  </thead>\n",
              "  <tbody>\n",
              "    <tr>\n",
              "      <th>0</th>\n",
              "      <td>MarketTwits</td>\n",
              "      <td>MarketTwits</td>\n",
              "      <td>137000</td>\n",
              "      <td>27956</td>\n",
              "      <td>2019.01.18 18:30:00</td>\n",
              "      <td>t.me/markettwits/27956</td>\n",
              "      <td>5300</td>\n",
              "      <td>0.04</td>\n",
              "      <td>$RS</td>\n",
              "      <td>🔥 ❗️ 🇨🇳 🇺🇸 #торговыевойныкитай Китай обещает у...</td>\n",
              "      <td>NaN</td>\n",
              "      <td>NaN</td>\n",
              "      <td>#EA-RM #GPS-RM #OBUV #TORS</td>\n",
              "      <td>0</td>\n",
              "    </tr>\n",
              "    <tr>\n",
              "      <th>1</th>\n",
              "      <td>ФинДип</td>\n",
              "      <td>findeep</td>\n",
              "      <td>809</td>\n",
              "      <td>569</td>\n",
              "      <td>2019.01.22 10:39:27</td>\n",
              "      <td>t.me/FinDeep/569</td>\n",
              "      <td>165</td>\n",
              "      <td>0.20</td>\n",
              "      <td>NaN</td>\n",
              "      <td>Франк может подешеветь на фоне опасений Нацбан...</td>\n",
              "      <td>NaN</td>\n",
              "      <td>NaN</td>\n",
              "      <td>#OBUV #ROSB #TANL</td>\n",
              "      <td>0</td>\n",
              "    </tr>\n",
              "    <tr>\n",
              "      <th>2</th>\n",
              "      <td>Криптокритика / Cryptocritique</td>\n",
              "      <td>cryptocritique</td>\n",
              "      <td>6240</td>\n",
              "      <td>2877</td>\n",
              "      <td>2019.01.22 16:06:36</td>\n",
              "      <td>t.me/cryptocritique/2877</td>\n",
              "      <td>18</td>\n",
              "      <td>0.00</td>\n",
              "      <td>NaN</td>\n",
              "      <td>Сюжет ТВЦ о проекте, «который позволяет его уч...</td>\n",
              "      <td>NaN</td>\n",
              "      <td>NaN</td>\n",
              "      <td>#LIFE #OBUV</td>\n",
              "      <td>0</td>\n",
              "    </tr>\n",
              "  </tbody>\n",
              "</table>\n",
              "</div>"
            ],
            "text/plain": [
              "                          channel  ... class\n",
              "0                     MarketTwits  ...     0\n",
              "1                          ФинДип  ...     0\n",
              "2  Криптокритика / Cryptocritique  ...     0\n",
              "\n",
              "[3 rows x 14 columns]"
            ]
          },
          "metadata": {},
          "execution_count": 19
        }
      ]
    },
    {
      "cell_type": "code",
      "metadata": {
        "colab": {
          "base_uri": "https://localhost:8080/"
        },
        "id": "gBq0wr17KgqM",
        "outputId": "ba6601c4-7b87-4720-c00b-30632925d3cc"
      },
      "source": [
        "marked_news.info()"
      ],
      "execution_count": null,
      "outputs": [
        {
          "output_type": "stream",
          "name": "stdout",
          "text": [
            "<class 'pandas.core.frame.DataFrame'>\n",
            "RangeIndex: 9404 entries, 0 to 9403\n",
            "Data columns (total 14 columns):\n",
            " #   Column       Non-Null Count  Dtype  \n",
            "---  ------       --------------  -----  \n",
            " 0   channel      9404 non-null   object \n",
            " 1   channel_id   9404 non-null   object \n",
            " 2   members      9404 non-null   int64  \n",
            " 3   post_id      9404 non-null   int64  \n",
            " 4   date         9404 non-null   object \n",
            " 5   url          9404 non-null   object \n",
            " 6   views        9404 non-null   int64  \n",
            " 7   cover_ratio  9404 non-null   float64\n",
            " 8   ticker       4376 non-null   object \n",
            " 9   text         9404 non-null   object \n",
            " 10  author       0 non-null      float64\n",
            " 11  likes        0 non-null      float64\n",
            " 12  tickers      9397 non-null   object \n",
            " 13  class        9404 non-null   int64  \n",
            "dtypes: float64(3), int64(4), object(7)\n",
            "memory usage: 1.0+ MB\n"
          ]
        }
      ]
    },
    {
      "cell_type": "code",
      "metadata": {
        "colab": {
          "base_uri": "https://localhost:8080/"
        },
        "id": "q1EwgPjUErAr",
        "outputId": "69d17e2b-c7f0-444e-f9b0-5a4dafc969ac"
      },
      "source": [
        "marked_news.groupby(['channel']).size()\n",
        "# df1.set_option(\"display.max_rows\", 5)\n",
        "# sort_values('channel', ascending = True)"
      ],
      "execution_count": null,
      "outputs": [
        {
          "output_type": "execute_result",
          "data": {
            "text/plain": [
              "channel\n",
              "BCS Express                                131\n",
              "Coin Post – Деньги, инвестиции, биткоин     60\n",
              "Finam Alert                                211\n",
              "FinanceMarker.ru                            99\n",
              "Forbes Russia                              448\n",
              "                                          ... \n",
              "ФИНАНСОВЫЕ ДУМКИ                            56\n",
              "ФинДип                                     816\n",
              "Финансовая Независимость                    20\n",
              "Экономика                                  251\n",
              "ЮРИСТ ЕВГЕНИЙ ШУПИКОВ                       13\n",
              "Length: 61, dtype: int64"
            ]
          },
          "metadata": {},
          "execution_count": 84
        }
      ]
    },
    {
      "cell_type": "code",
      "metadata": {
        "id": "GivZvBrgCSLa"
      },
      "source": [
        "#marked_news[marked_news.channel == 'ЗЛОЙ ФИНАНСИСТ 😡'].groupby(['channel']).apply(lambda x: x.sort_values('class', ascending=False))"
      ],
      "execution_count": null,
      "outputs": []
    },
    {
      "cell_type": "code",
      "metadata": {
        "colab": {
          "base_uri": "https://localhost:8080/",
          "height": 235
        },
        "id": "7wL0SQs_QQla",
        "outputId": "63e5cf2e-175d-49e4-c3e3-3962e741c0e5"
      },
      "source": [
        "marked_news.groupby(['channel']).agg({'channel_id': 'count', 'class': 'sum'}).sort_values(by = ['class'], ascending=False).head(5)"
      ],
      "execution_count": null,
      "outputs": [
        {
          "output_type": "execute_result",
          "data": {
            "text/html": [
              "<div>\n",
              "<style scoped>\n",
              "    .dataframe tbody tr th:only-of-type {\n",
              "        vertical-align: middle;\n",
              "    }\n",
              "\n",
              "    .dataframe tbody tr th {\n",
              "        vertical-align: top;\n",
              "    }\n",
              "\n",
              "    .dataframe thead th {\n",
              "        text-align: right;\n",
              "    }\n",
              "</style>\n",
              "<table border=\"1\" class=\"dataframe\">\n",
              "  <thead>\n",
              "    <tr style=\"text-align: right;\">\n",
              "      <th></th>\n",
              "      <th>channel_id</th>\n",
              "      <th>class</th>\n",
              "    </tr>\n",
              "    <tr>\n",
              "      <th>channel</th>\n",
              "      <th></th>\n",
              "      <th></th>\n",
              "    </tr>\n",
              "  </thead>\n",
              "  <tbody>\n",
              "    <tr>\n",
              "      <th>РынкиДеньгиВласть | РДВ</th>\n",
              "      <td>809</td>\n",
              "      <td>169</td>\n",
              "    </tr>\n",
              "    <tr>\n",
              "      <th>Сигналы РЦБ</th>\n",
              "      <td>708</td>\n",
              "      <td>118</td>\n",
              "    </tr>\n",
              "    <tr>\n",
              "      <th>ЗЛОЙ ФИНАНСИСТ 😡</th>\n",
              "      <td>146</td>\n",
              "      <td>95</td>\n",
              "    </tr>\n",
              "    <tr>\n",
              "      <th>СМАРТЛАБ</th>\n",
              "      <td>289</td>\n",
              "      <td>27</td>\n",
              "    </tr>\n",
              "    <tr>\n",
              "      <th>MarketTwits</th>\n",
              "      <td>1226</td>\n",
              "      <td>19</td>\n",
              "    </tr>\n",
              "  </tbody>\n",
              "</table>\n",
              "</div>"
            ],
            "text/plain": [
              "                         channel_id  class\n",
              "channel                                   \n",
              "РынкиДеньгиВласть | РДВ         809    169\n",
              "Сигналы РЦБ                     708    118\n",
              "ЗЛОЙ ФИНАНСИСТ 😡                146     95\n",
              "СМАРТЛАБ                        289     27\n",
              "MarketTwits                    1226     19"
            ]
          },
          "metadata": {},
          "execution_count": 113
        }
      ]
    },
    {
      "cell_type": "code",
      "metadata": {
        "id": "axjd7E9Um12p"
      },
      "source": [
        ""
      ],
      "execution_count": null,
      "outputs": []
    },
    {
      "cell_type": "markdown",
      "metadata": {
        "id": "ei9uHJ6grHng"
      },
      "source": [
        ""
      ]
    },
    {
      "cell_type": "markdown",
      "metadata": {
        "id": "xbbOZV4QrH9n"
      },
      "source": [
        "##Загрузка results_news_authors_likes"
      ]
    },
    {
      "cell_type": "code",
      "metadata": {
        "colab": {
          "base_uri": "https://localhost:8080/"
        },
        "id": "Ym_9oStcrOc_",
        "outputId": "57feb298-103c-4824-c319-e90e540eca98"
      },
      "source": [
        "results_news_authors_likes = pd.read_csv(\"/content/drive/My Drive/Fraud_Finance_Data/News/results_news_authors_likes.csv\"\n",
        "                            , delimiter=';'\n",
        "                            # , quoting = 2\n",
        "                            # , skiprows = [0, 512648]\n",
        "                            # , nrows=5\n",
        "                            # , on_bad_lines = 'warn'\n",
        "                            , error_bad_lines = False\n",
        "                          )"
      ],
      "execution_count": null,
      "outputs": [
        {
          "output_type": "stream",
          "name": "stderr",
          "text": [
            "b'Skipping line 512649: expected 13 fields, saw 14\\n'\n",
            "b'Skipping line 537906: expected 13 fields, saw 14\\n'\n"
          ]
        }
      ]
    },
    {
      "cell_type": "code",
      "metadata": {
        "colab": {
          "base_uri": "https://localhost:8080/",
          "height": 110
        },
        "id": "Ksqj_vuVrQ1f",
        "outputId": "513a1605-890b-44f1-a098-bf5152e1d2a7"
      },
      "source": [
        "results_news_authors_likes.head(2)"
      ],
      "execution_count": null,
      "outputs": [
        {
          "output_type": "execute_result",
          "data": {
            "text/html": [
              "<div>\n",
              "<style scoped>\n",
              "    .dataframe tbody tr th:only-of-type {\n",
              "        vertical-align: middle;\n",
              "    }\n",
              "\n",
              "    .dataframe tbody tr th {\n",
              "        vertical-align: top;\n",
              "    }\n",
              "\n",
              "    .dataframe thead th {\n",
              "        text-align: right;\n",
              "    }\n",
              "</style>\n",
              "<table border=\"1\" class=\"dataframe\">\n",
              "  <thead>\n",
              "    <tr style=\"text-align: right;\">\n",
              "      <th></th>\n",
              "      <th>channel</th>\n",
              "      <th>channel_id</th>\n",
              "      <th>members</th>\n",
              "      <th>post_id</th>\n",
              "      <th>date</th>\n",
              "      <th>url</th>\n",
              "      <th>views</th>\n",
              "      <th>cover_ratio</th>\n",
              "      <th>ticker</th>\n",
              "      <th>text</th>\n",
              "      <th>author</th>\n",
              "      <th>likes</th>\n",
              "      <th>tickers</th>\n",
              "    </tr>\n",
              "  </thead>\n",
              "  <tbody>\n",
              "    <tr>\n",
              "      <th>0</th>\n",
              "      <td>ФИНАНСОВЫЕ ДУМКИ</td>\n",
              "      <td>marketdumki</td>\n",
              "      <td>46800</td>\n",
              "      <td>2504</td>\n",
              "      <td>2021.04.19 13:13:28</td>\n",
              "      <td>t.me/MarketDumki/2504</td>\n",
              "      <td>18700</td>\n",
              "      <td>0.4</td>\n",
              "      <td>NaN</td>\n",
              "      <td>Отличное нововведение , на которое давно был з...</td>\n",
              "      <td>NaN</td>\n",
              "      <td>NaN</td>\n",
              "      <td>#OBUV #ROSB</td>\n",
              "    </tr>\n",
              "    <tr>\n",
              "      <th>1</th>\n",
              "      <td>ФИНАНСОВЫЕ ДУМКИ</td>\n",
              "      <td>marketdumki</td>\n",
              "      <td>46800</td>\n",
              "      <td>2505</td>\n",
              "      <td>2021.04.19 16:16:19</td>\n",
              "      <td>t.me/MarketDumki/2505</td>\n",
              "      <td>18800</td>\n",
              "      <td>0.4</td>\n",
              "      <td>NaN</td>\n",
              "      <td>''Ну никак пока не могут вырасти акции Газпром...</td>\n",
              "      <td>NaN</td>\n",
              "      <td>NaN</td>\n",
              "      <td>#GAZA #GAZAP #GAZP #OBUV #ROSB</td>\n",
              "    </tr>\n",
              "  </tbody>\n",
              "</table>\n",
              "</div>"
            ],
            "text/plain": [
              "            channel   channel_id  ...  likes                          tickers\n",
              "0  ФИНАНСОВЫЕ ДУМКИ  marketdumki  ...    NaN                      #OBUV #ROSB\n",
              "1  ФИНАНСОВЫЕ ДУМКИ  marketdumki  ...    NaN   #GAZA #GAZAP #GAZP #OBUV #ROSB\n",
              "\n",
              "[2 rows x 13 columns]"
            ]
          },
          "metadata": {},
          "execution_count": 7
        }
      ]
    },
    {
      "cell_type": "markdown",
      "metadata": {
        "id": "cZR77bYDg0oD"
      },
      "source": [
        "##Загрузка forums_utf"
      ]
    },
    {
      "cell_type": "markdown",
      "metadata": {
        "id": "PqATdlLugrih"
      },
      "source": [
        ""
      ]
    },
    {
      "cell_type": "code",
      "metadata": {
        "colab": {
          "base_uri": "https://localhost:8080/"
        },
        "id": "naHaN9ZdgrPg",
        "outputId": "3b3a11b1-9dfe-4922-efbd-97671a80d424"
      },
      "source": [
        "forums_utf = pd.read_csv(\"/content/drive/My Drive/Fraud_Finance_Data/News/forums_utf.csv\"\n",
        "                            , delimiter=';'\n",
        "                            # , quoting = 2\n",
        "                            # , skiprows = [0, 512648]\n",
        "                            # , nrows=5\n",
        "                            # , on_bad_lines = 'warn'\n",
        "                            , error_bad_lines = False\n",
        "                          )"
      ],
      "execution_count": null,
      "outputs": [
        {
          "output_type": "stream",
          "name": "stderr",
          "text": [
            "/usr/local/lib/python3.7/dist-packages/IPython/core/interactiveshell.py:2718: DtypeWarning: Columns (11) have mixed types.Specify dtype option on import or set low_memory=False.\n",
            "  interactivity=interactivity, compiler=compiler, result=result)\n"
          ]
        }
      ]
    },
    {
      "cell_type": "code",
      "metadata": {
        "colab": {
          "base_uri": "https://localhost:8080/",
          "height": 141
        },
        "id": "xo5HsLDBgh31",
        "outputId": "ac1c80f9-9f7a-4eed-c755-a2f3e3df75bd"
      },
      "source": [
        "forums_utf.tail(3)"
      ],
      "execution_count": null,
      "outputs": [
        {
          "output_type": "execute_result",
          "data": {
            "text/html": [
              "<div>\n",
              "<style scoped>\n",
              "    .dataframe tbody tr th:only-of-type {\n",
              "        vertical-align: middle;\n",
              "    }\n",
              "\n",
              "    .dataframe tbody tr th {\n",
              "        vertical-align: top;\n",
              "    }\n",
              "\n",
              "    .dataframe thead th {\n",
              "        text-align: right;\n",
              "    }\n",
              "</style>\n",
              "<table border=\"1\" class=\"dataframe\">\n",
              "  <thead>\n",
              "    <tr style=\"text-align: right;\">\n",
              "      <th></th>\n",
              "      <th>Channel</th>\n",
              "      <th>Channel_id</th>\n",
              "      <th>members</th>\n",
              "      <th>post_id</th>\n",
              "      <th>date</th>\n",
              "      <th>url</th>\n",
              "      <th>views</th>\n",
              "      <th>cover_ratio</th>\n",
              "      <th>ticker</th>\n",
              "      <th>text</th>\n",
              "      <th>author</th>\n",
              "      <th>likes</th>\n",
              "    </tr>\n",
              "  </thead>\n",
              "  <tbody>\n",
              "    <tr>\n",
              "      <th>2533915</th>\n",
              "      <td>Смартлаб</td>\n",
              "      <td>smart_lab</td>\n",
              "      <td>NaN</td>\n",
              "      <td>9327205</td>\n",
              "      <td>2019.01.18 13:13:47</td>\n",
              "      <td>https://smart-lab.ru/forum/ZVEZ/page53/</td>\n",
              "      <td>NaN</td>\n",
              "      <td>NaN</td>\n",
              "      <td>#ZVEZ</td>\n",
              "      <td>Будут новости большие в понедельник уже, Совет...</td>\n",
              "      <td>сергей</td>\n",
              "      <td>0</td>\n",
              "    </tr>\n",
              "    <tr>\n",
              "      <th>2533916</th>\n",
              "      <td>Смартлаб</td>\n",
              "      <td>smart_lab</td>\n",
              "      <td>NaN</td>\n",
              "      <td>9320930</td>\n",
              "      <td>2019.01.17 10:33:38</td>\n",
              "      <td>https://smart-lab.ru/forum/ZVEZ/page53/</td>\n",
              "      <td>NaN</td>\n",
              "      <td>NaN</td>\n",
              "      <td>#ZVEZ</td>\n",
              "      <td>Акция созрела для скачка однозначно.</td>\n",
              "      <td>сергей</td>\n",
              "      <td>0</td>\n",
              "    </tr>\n",
              "    <tr>\n",
              "      <th>2533917</th>\n",
              "      <td>Смартлаб</td>\n",
              "      <td>smart_lab</td>\n",
              "      <td>NaN</td>\n",
              "      <td>9270027</td>\n",
              "      <td>2019.01.03 11:27:30</td>\n",
              "      <td>https://smart-lab.ru/forum/ZVEZ/page53/</td>\n",
              "      <td>NaN</td>\n",
              "      <td>NaN</td>\n",
              "      <td>#ZVEZ</td>\n",
              "      <td>Скупка с самого начала года. Хороший знак.</td>\n",
              "      <td>Уоррен Баффет</td>\n",
              "      <td>0</td>\n",
              "    </tr>\n",
              "  </tbody>\n",
              "</table>\n",
              "</div>"
            ],
            "text/plain": [
              "          Channel Channel_id  ...         author  likes\n",
              "2533915  Смартлаб  smart_lab  ...         сергей      0\n",
              "2533916  Смартлаб  smart_lab  ...         сергей      0\n",
              "2533917  Смартлаб  smart_lab  ...  Уоррен Баффет      0\n",
              "\n",
              "[3 rows x 12 columns]"
            ]
          },
          "metadata": {},
          "execution_count": 17
        }
      ]
    },
    {
      "cell_type": "markdown",
      "metadata": {
        "id": "VePF9VGg0ikN"
      },
      "source": [
        "#Загрузка Prices"
      ]
    },
    {
      "cell_type": "code",
      "metadata": {
        "colab": {
          "base_uri": "https://localhost:8080/"
        },
        "id": "hM340YIo111_",
        "outputId": "d15c5d09-f03a-40f3-be8f-649dfd456e74"
      },
      "source": [
        "# os.chdir(\"/content/drive/My Drive/Fraud_Finance_Data/Prices/2019-2020/\")\n",
        "# path = os.getcwd()\n",
        "# csv_files = glob.glob(os.path.join(path, \"*.csv\"))\n",
        "# print(csv_files)"
      ],
      "execution_count": null,
      "outputs": [
        {
          "output_type": "stream",
          "name": "stdout",
          "text": [
            "['/content/drive/.shortcut-targets-by-id/15I37gBpPgYtX7PojExDuiymMuq3tndBF/Fraud_Finance_Data/Prices/2019-2020/ABRD.csv', '/content/drive/.shortcut-targets-by-id/15I37gBpPgYtX7PojExDuiymMuq3tndBF/Fraud_Finance_Data/Prices/2019-2020/LKOH.csv', '/content/drive/.shortcut-targets-by-id/15I37gBpPgYtX7PojExDuiymMuq3tndBF/Fraud_Finance_Data/Prices/2019-2020/AFKS.csv', '/content/drive/.shortcut-targets-by-id/15I37gBpPgYtX7PojExDuiymMuq3tndBF/Fraud_Finance_Data/Prices/2019-2020/AFLT.csv', '/content/drive/.shortcut-targets-by-id/15I37gBpPgYtX7PojExDuiymMuq3tndBF/Fraud_Finance_Data/Prices/2019-2020/AGRO.csv', '/content/drive/.shortcut-targets-by-id/15I37gBpPgYtX7PojExDuiymMuq3tndBF/Fraud_Finance_Data/Prices/2019-2020/AKRN.csv', '/content/drive/.shortcut-targets-by-id/15I37gBpPgYtX7PojExDuiymMuq3tndBF/Fraud_Finance_Data/Prices/2019-2020/ALBK.csv', '/content/drive/.shortcut-targets-by-id/15I37gBpPgYtX7PojExDuiymMuq3tndBF/Fraud_Finance_Data/Prices/2019-2020/ALNU.csv', '/content/drive/.shortcut-targets-by-id/15I37gBpPgYtX7PojExDuiymMuq3tndBF/Fraud_Finance_Data/Prices/2019-2020/ALRS.csv', '/content/drive/.shortcut-targets-by-id/15I37gBpPgYtX7PojExDuiymMuq3tndBF/Fraud_Finance_Data/Prices/2019-2020/AMEZ.csv', '/content/drive/.shortcut-targets-by-id/15I37gBpPgYtX7PojExDuiymMuq3tndBF/Fraud_Finance_Data/Prices/2019-2020/APTK.csv', '/content/drive/.shortcut-targets-by-id/15I37gBpPgYtX7PojExDuiymMuq3tndBF/Fraud_Finance_Data/Prices/2019-2020/AQUA.csv', '/content/drive/.shortcut-targets-by-id/15I37gBpPgYtX7PojExDuiymMuq3tndBF/Fraud_Finance_Data/Prices/2019-2020/ARSA.csv', '/content/drive/.shortcut-targets-by-id/15I37gBpPgYtX7PojExDuiymMuq3tndBF/Fraud_Finance_Data/Prices/2019-2020/ARMD.csv', '/content/drive/.shortcut-targets-by-id/15I37gBpPgYtX7PojExDuiymMuq3tndBF/Fraud_Finance_Data/Prices/2019-2020/ASSB.csv', '/content/drive/.shortcut-targets-by-id/15I37gBpPgYtX7PojExDuiymMuq3tndBF/Fraud_Finance_Data/Prices/2019-2020/AVAN.csv', '/content/drive/.shortcut-targets-by-id/15I37gBpPgYtX7PojExDuiymMuq3tndBF/Fraud_Finance_Data/Prices/2019-2020/BANE.csv', '/content/drive/.shortcut-targets-by-id/15I37gBpPgYtX7PojExDuiymMuq3tndBF/Fraud_Finance_Data/Prices/2019-2020/BANEP.csv', '/content/drive/.shortcut-targets-by-id/15I37gBpPgYtX7PojExDuiymMuq3tndBF/Fraud_Finance_Data/Prices/2019-2020/BISVP.csv', '/content/drive/.shortcut-targets-by-id/15I37gBpPgYtX7PojExDuiymMuq3tndBF/Fraud_Finance_Data/Prices/2019-2020/BLNG.csv', '/content/drive/.shortcut-targets-by-id/15I37gBpPgYtX7PojExDuiymMuq3tndBF/Fraud_Finance_Data/Prices/2019-2020/BRZL.csv', '/content/drive/.shortcut-targets-by-id/15I37gBpPgYtX7PojExDuiymMuq3tndBF/Fraud_Finance_Data/Prices/2019-2020/BSPB.csv', '/content/drive/.shortcut-targets-by-id/15I37gBpPgYtX7PojExDuiymMuq3tndBF/Fraud_Finance_Data/Prices/2019-2020/CBOM.csv', '/content/drive/.shortcut-targets-by-id/15I37gBpPgYtX7PojExDuiymMuq3tndBF/Fraud_Finance_Data/Prices/2019-2020/CHEP.csv', '/content/drive/.shortcut-targets-by-id/15I37gBpPgYtX7PojExDuiymMuq3tndBF/Fraud_Finance_Data/Prices/2019-2020/CHGZ.csv', '/content/drive/.shortcut-targets-by-id/15I37gBpPgYtX7PojExDuiymMuq3tndBF/Fraud_Finance_Data/Prices/2019-2020/CHKZ.csv', '/content/drive/.shortcut-targets-by-id/15I37gBpPgYtX7PojExDuiymMuq3tndBF/Fraud_Finance_Data/Prices/2019-2020/CHMF.csv', '/content/drive/.shortcut-targets-by-id/15I37gBpPgYtX7PojExDuiymMuq3tndBF/Fraud_Finance_Data/Prices/2019-2020/CHMK.csv', '/content/drive/.shortcut-targets-by-id/15I37gBpPgYtX7PojExDuiymMuq3tndBF/Fraud_Finance_Data/Prices/2019-2020/CLSB.csv', '/content/drive/.shortcut-targets-by-id/15I37gBpPgYtX7PojExDuiymMuq3tndBF/Fraud_Finance_Data/Prices/2019-2020/CLSBP.csv', '/content/drive/.shortcut-targets-by-id/15I37gBpPgYtX7PojExDuiymMuq3tndBF/Fraud_Finance_Data/Prices/2019-2020/CNTL.csv', '/content/drive/.shortcut-targets-by-id/15I37gBpPgYtX7PojExDuiymMuq3tndBF/Fraud_Finance_Data/Prices/2019-2020/CNTLP.csv', '/content/drive/.shortcut-targets-by-id/15I37gBpPgYtX7PojExDuiymMuq3tndBF/Fraud_Finance_Data/Prices/2019-2020/DASB.csv', '/content/drive/.shortcut-targets-by-id/15I37gBpPgYtX7PojExDuiymMuq3tndBF/Fraud_Finance_Data/Prices/2019-2020/DIOD.csv', '/content/drive/.shortcut-targets-by-id/15I37gBpPgYtX7PojExDuiymMuq3tndBF/Fraud_Finance_Data/Prices/2019-2020/DVEC.csv', '/content/drive/.shortcut-targets-by-id/15I37gBpPgYtX7PojExDuiymMuq3tndBF/Fraud_Finance_Data/Prices/2019-2020/DZRD.csv', '/content/drive/.shortcut-targets-by-id/15I37gBpPgYtX7PojExDuiymMuq3tndBF/Fraud_Finance_Data/Prices/2019-2020/DZRDP.csv', '/content/drive/.shortcut-targets-by-id/15I37gBpPgYtX7PojExDuiymMuq3tndBF/Fraud_Finance_Data/Prices/2019-2020/ELTZ.csv', '/content/drive/.shortcut-targets-by-id/15I37gBpPgYtX7PojExDuiymMuq3tndBF/Fraud_Finance_Data/Prices/2019-2020/ENRU.csv', '/content/drive/.shortcut-targets-by-id/15I37gBpPgYtX7PojExDuiymMuq3tndBF/Fraud_Finance_Data/Prices/2019-2020/FEES.csv', '/content/drive/.shortcut-targets-by-id/15I37gBpPgYtX7PojExDuiymMuq3tndBF/Fraud_Finance_Data/Prices/2019-2020/FESH.csv', '/content/drive/.shortcut-targets-by-id/15I37gBpPgYtX7PojExDuiymMuq3tndBF/Fraud_Finance_Data/Prices/2019-2020/GAZA.csv', '/content/drive/.shortcut-targets-by-id/15I37gBpPgYtX7PojExDuiymMuq3tndBF/Fraud_Finance_Data/Prices/2019-2020/GAZAP.csv', '/content/drive/.shortcut-targets-by-id/15I37gBpPgYtX7PojExDuiymMuq3tndBF/Fraud_Finance_Data/Prices/2019-2020/GAZT.csv', '/content/drive/.shortcut-targets-by-id/15I37gBpPgYtX7PojExDuiymMuq3tndBF/Fraud_Finance_Data/Prices/2019-2020/GAZP.csv', '/content/drive/.shortcut-targets-by-id/15I37gBpPgYtX7PojExDuiymMuq3tndBF/Fraud_Finance_Data/Prices/2019-2020/GCHE.csv', '/content/drive/.shortcut-targets-by-id/15I37gBpPgYtX7PojExDuiymMuq3tndBF/Fraud_Finance_Data/Prices/2019-2020/GMKN.csv', '/content/drive/.shortcut-targets-by-id/15I37gBpPgYtX7PojExDuiymMuq3tndBF/Fraud_Finance_Data/Prices/2019-2020/GRNT.csv', '/content/drive/.shortcut-targets-by-id/15I37gBpPgYtX7PojExDuiymMuq3tndBF/Fraud_Finance_Data/Prices/2019-2020/GTLC.csv', '/content/drive/.shortcut-targets-by-id/15I37gBpPgYtX7PojExDuiymMuq3tndBF/Fraud_Finance_Data/Prices/2019-2020/HALS.csv', '/content/drive/.shortcut-targets-by-id/15I37gBpPgYtX7PojExDuiymMuq3tndBF/Fraud_Finance_Data/Prices/2019-2020/HIMCP.csv', '/content/drive/.shortcut-targets-by-id/15I37gBpPgYtX7PojExDuiymMuq3tndBF/Fraud_Finance_Data/Prices/2019-2020/HYDR.csv', '/content/drive/.shortcut-targets-by-id/15I37gBpPgYtX7PojExDuiymMuq3tndBF/Fraud_Finance_Data/Prices/2019-2020/IDVP.csv', '/content/drive/.shortcut-targets-by-id/15I37gBpPgYtX7PojExDuiymMuq3tndBF/Fraud_Finance_Data/Prices/2019-2020/IGST.csv', '/content/drive/.shortcut-targets-by-id/15I37gBpPgYtX7PojExDuiymMuq3tndBF/Fraud_Finance_Data/Prices/2019-2020/IGSTP.csv', '/content/drive/.shortcut-targets-by-id/15I37gBpPgYtX7PojExDuiymMuq3tndBF/Fraud_Finance_Data/Prices/2019-2020/IRAO.csv', '/content/drive/.shortcut-targets-by-id/15I37gBpPgYtX7PojExDuiymMuq3tndBF/Fraud_Finance_Data/Prices/2019-2020/IRGZ.csv', '/content/drive/.shortcut-targets-by-id/15I37gBpPgYtX7PojExDuiymMuq3tndBF/Fraud_Finance_Data/Prices/2019-2020/IRKT.csv', '/content/drive/.shortcut-targets-by-id/15I37gBpPgYtX7PojExDuiymMuq3tndBF/Fraud_Finance_Data/Prices/2019-2020/ISKJ.csv', '/content/drive/.shortcut-targets-by-id/15I37gBpPgYtX7PojExDuiymMuq3tndBF/Fraud_Finance_Data/Prices/2019-2020/JNOS.csv', '/content/drive/.shortcut-targets-by-id/15I37gBpPgYtX7PojExDuiymMuq3tndBF/Fraud_Finance_Data/Prices/2019-2020/JNOSP.csv', '/content/drive/.shortcut-targets-by-id/15I37gBpPgYtX7PojExDuiymMuq3tndBF/Fraud_Finance_Data/Prices/2019-2020/KAZT.csv', '/content/drive/.shortcut-targets-by-id/15I37gBpPgYtX7PojExDuiymMuq3tndBF/Fraud_Finance_Data/Prices/2019-2020/KBSB.csv', '/content/drive/.shortcut-targets-by-id/15I37gBpPgYtX7PojExDuiymMuq3tndBF/Fraud_Finance_Data/Prices/2019-2020/KAZTP.csv', '/content/drive/.shortcut-targets-by-id/15I37gBpPgYtX7PojExDuiymMuq3tndBF/Fraud_Finance_Data/Prices/2019-2020/KBTK.csv', '/content/drive/.shortcut-targets-by-id/15I37gBpPgYtX7PojExDuiymMuq3tndBF/Fraud_Finance_Data/Prices/2019-2020/KCHE.csv', '/content/drive/.shortcut-targets-by-id/15I37gBpPgYtX7PojExDuiymMuq3tndBF/Fraud_Finance_Data/Prices/2019-2020/KCHEP.csv', '/content/drive/.shortcut-targets-by-id/15I37gBpPgYtX7PojExDuiymMuq3tndBF/Fraud_Finance_Data/Prices/2019-2020/KGKC.csv', '/content/drive/.shortcut-targets-by-id/15I37gBpPgYtX7PojExDuiymMuq3tndBF/Fraud_Finance_Data/Prices/2019-2020/KGKCP.csv', '/content/drive/.shortcut-targets-by-id/15I37gBpPgYtX7PojExDuiymMuq3tndBF/Fraud_Finance_Data/Prices/2019-2020/KLSB.csv', '/content/drive/.shortcut-targets-by-id/15I37gBpPgYtX7PojExDuiymMuq3tndBF/Fraud_Finance_Data/Prices/2019-2020/KMAZ.csv', '/content/drive/.shortcut-targets-by-id/15I37gBpPgYtX7PojExDuiymMuq3tndBF/Fraud_Finance_Data/Prices/2019-2020/KOGK.csv', '/content/drive/.shortcut-targets-by-id/15I37gBpPgYtX7PojExDuiymMuq3tndBF/Fraud_Finance_Data/Prices/2019-2020/KMEZ.csv', '/content/drive/.shortcut-targets-by-id/15I37gBpPgYtX7PojExDuiymMuq3tndBF/Fraud_Finance_Data/Prices/2019-2020/KRKN.csv', '/content/drive/.shortcut-targets-by-id/15I37gBpPgYtX7PojExDuiymMuq3tndBF/Fraud_Finance_Data/Prices/2019-2020/KRKNP.csv', '/content/drive/.shortcut-targets-by-id/15I37gBpPgYtX7PojExDuiymMuq3tndBF/Fraud_Finance_Data/Prices/2019-2020/KRKOP.csv', '/content/drive/.shortcut-targets-by-id/15I37gBpPgYtX7PojExDuiymMuq3tndBF/Fraud_Finance_Data/Prices/2019-2020/KROT.csv', '/content/drive/.shortcut-targets-by-id/15I37gBpPgYtX7PojExDuiymMuq3tndBF/Fraud_Finance_Data/Prices/2019-2020/KROTP.csv', '/content/drive/.shortcut-targets-by-id/15I37gBpPgYtX7PojExDuiymMuq3tndBF/Fraud_Finance_Data/Prices/2019-2020/KRSB.csv', '/content/drive/.shortcut-targets-by-id/15I37gBpPgYtX7PojExDuiymMuq3tndBF/Fraud_Finance_Data/Prices/2019-2020/KRSBP.csv', '/content/drive/.shortcut-targets-by-id/15I37gBpPgYtX7PojExDuiymMuq3tndBF/Fraud_Finance_Data/Prices/2019-2020/MERF.csv', '/content/drive/.shortcut-targets-by-id/15I37gBpPgYtX7PojExDuiymMuq3tndBF/Fraud_Finance_Data/Prices/2019-2020/MFGS.csv', '/content/drive/.shortcut-targets-by-id/15I37gBpPgYtX7PojExDuiymMuq3tndBF/Fraud_Finance_Data/Prices/2019-2020/MFGSP.csv', '/content/drive/.shortcut-targets-by-id/15I37gBpPgYtX7PojExDuiymMuq3tndBF/Fraud_Finance_Data/Prices/2019-2020/MFON.csv', '/content/drive/.shortcut-targets-by-id/15I37gBpPgYtX7PojExDuiymMuq3tndBF/Fraud_Finance_Data/Prices/2019-2020/MGNT.csv', '/content/drive/.shortcut-targets-by-id/15I37gBpPgYtX7PojExDuiymMuq3tndBF/Fraud_Finance_Data/Prices/2019-2020/MGNZ.csv', '/content/drive/.shortcut-targets-by-id/15I37gBpPgYtX7PojExDuiymMuq3tndBF/Fraud_Finance_Data/Prices/2019-2020/MGTS.csv', '/content/drive/.shortcut-targets-by-id/15I37gBpPgYtX7PojExDuiymMuq3tndBF/Fraud_Finance_Data/Prices/2019-2020/MGTSP.csv', '/content/drive/.shortcut-targets-by-id/15I37gBpPgYtX7PojExDuiymMuq3tndBF/Fraud_Finance_Data/Prices/2019-2020/MISB.csv', '/content/drive/.shortcut-targets-by-id/15I37gBpPgYtX7PojExDuiymMuq3tndBF/Fraud_Finance_Data/Prices/2019-2020/MGVM.csv', '/content/drive/.shortcut-targets-by-id/15I37gBpPgYtX7PojExDuiymMuq3tndBF/Fraud_Finance_Data/Prices/2019-2020/MISBP.csv', '/content/drive/.shortcut-targets-by-id/15I37gBpPgYtX7PojExDuiymMuq3tndBF/Fraud_Finance_Data/Prices/2019-2020/MOBB.csv', '/content/drive/.shortcut-targets-by-id/15I37gBpPgYtX7PojExDuiymMuq3tndBF/Fraud_Finance_Data/Prices/2019-2020/MOEX.csv', '/content/drive/.shortcut-targets-by-id/15I37gBpPgYtX7PojExDuiymMuq3tndBF/Fraud_Finance_Data/Prices/2019-2020/MRKC.csv', '/content/drive/.shortcut-targets-by-id/15I37gBpPgYtX7PojExDuiymMuq3tndBF/Fraud_Finance_Data/Prices/2019-2020/MRKK.csv', '/content/drive/.shortcut-targets-by-id/15I37gBpPgYtX7PojExDuiymMuq3tndBF/Fraud_Finance_Data/Prices/2019-2020/MRKP.csv', '/content/drive/.shortcut-targets-by-id/15I37gBpPgYtX7PojExDuiymMuq3tndBF/Fraud_Finance_Data/Prices/2019-2020/MRKS.csv', '/content/drive/.shortcut-targets-by-id/15I37gBpPgYtX7PojExDuiymMuq3tndBF/Fraud_Finance_Data/Prices/2019-2020/MRKU.csv', '/content/drive/.shortcut-targets-by-id/15I37gBpPgYtX7PojExDuiymMuq3tndBF/Fraud_Finance_Data/Prices/2019-2020/MRKV.csv', '/content/drive/.shortcut-targets-by-id/15I37gBpPgYtX7PojExDuiymMuq3tndBF/Fraud_Finance_Data/Prices/2019-2020/MRKY.csv', '/content/drive/.shortcut-targets-by-id/15I37gBpPgYtX7PojExDuiymMuq3tndBF/Fraud_Finance_Data/Prices/2019-2020/MRKZ.csv', '/content/drive/.shortcut-targets-by-id/15I37gBpPgYtX7PojExDuiymMuq3tndBF/Fraud_Finance_Data/Prices/2019-2020/MRSB.csv', '/content/drive/.shortcut-targets-by-id/15I37gBpPgYtX7PojExDuiymMuq3tndBF/Fraud_Finance_Data/Prices/2019-2020/MSNG.csv', '/content/drive/.shortcut-targets-by-id/15I37gBpPgYtX7PojExDuiymMuq3tndBF/Fraud_Finance_Data/Prices/2019-2020/MSRS.csv', '/content/drive/.shortcut-targets-by-id/15I37gBpPgYtX7PojExDuiymMuq3tndBF/Fraud_Finance_Data/Prices/2019-2020/MSST.csv', '/content/drive/.shortcut-targets-by-id/15I37gBpPgYtX7PojExDuiymMuq3tndBF/Fraud_Finance_Data/Prices/2019-2020/MSTT.csv', '/content/drive/.shortcut-targets-by-id/15I37gBpPgYtX7PojExDuiymMuq3tndBF/Fraud_Finance_Data/Prices/2019-2020/MTLR.csv', '/content/drive/.shortcut-targets-by-id/15I37gBpPgYtX7PojExDuiymMuq3tndBF/Fraud_Finance_Data/Prices/2019-2020/MTLRP.csv', '/content/drive/.shortcut-targets-by-id/15I37gBpPgYtX7PojExDuiymMuq3tndBF/Fraud_Finance_Data/Prices/2019-2020/MTSS.csv', '/content/drive/.shortcut-targets-by-id/15I37gBpPgYtX7PojExDuiymMuq3tndBF/Fraud_Finance_Data/Prices/2019-2020/MVID.csv', '/content/drive/.shortcut-targets-by-id/15I37gBpPgYtX7PojExDuiymMuq3tndBF/Fraud_Finance_Data/Prices/2019-2020/NAUK.csv', '/content/drive/.shortcut-targets-by-id/15I37gBpPgYtX7PojExDuiymMuq3tndBF/Fraud_Finance_Data/Prices/2019-2020/NFAZ.csv', '/content/drive/.shortcut-targets-by-id/15I37gBpPgYtX7PojExDuiymMuq3tndBF/Fraud_Finance_Data/Prices/2019-2020/NKHP.csv', '/content/drive/.shortcut-targets-by-id/15I37gBpPgYtX7PojExDuiymMuq3tndBF/Fraud_Finance_Data/Prices/2019-2020/NKNC.csv', '/content/drive/.shortcut-targets-by-id/15I37gBpPgYtX7PojExDuiymMuq3tndBF/Fraud_Finance_Data/Prices/2019-2020/NKNCP.csv', '/content/drive/.shortcut-targets-by-id/15I37gBpPgYtX7PojExDuiymMuq3tndBF/Fraud_Finance_Data/Prices/2019-2020/NKSH.csv', '/content/drive/.shortcut-targets-by-id/15I37gBpPgYtX7PojExDuiymMuq3tndBF/Fraud_Finance_Data/Prices/2019-2020/NLMK.csv', '/content/drive/.shortcut-targets-by-id/15I37gBpPgYtX7PojExDuiymMuq3tndBF/Fraud_Finance_Data/Prices/2019-2020/NMTP.csv', '/content/drive/.shortcut-targets-by-id/15I37gBpPgYtX7PojExDuiymMuq3tndBF/Fraud_Finance_Data/Prices/2019-2020/NNSB.csv', '/content/drive/.shortcut-targets-by-id/15I37gBpPgYtX7PojExDuiymMuq3tndBF/Fraud_Finance_Data/Prices/2019-2020/NNSBP.csv', '/content/drive/.shortcut-targets-by-id/15I37gBpPgYtX7PojExDuiymMuq3tndBF/Fraud_Finance_Data/Prices/2019-2020/NSVZ.csv', '/content/drive/.shortcut-targets-by-id/15I37gBpPgYtX7PojExDuiymMuq3tndBF/Fraud_Finance_Data/Prices/2019-2020/NVTK.csv', '/content/drive/.shortcut-targets-by-id/15I37gBpPgYtX7PojExDuiymMuq3tndBF/Fraud_Finance_Data/Prices/2019-2020/ODVA.csv', '/content/drive/.shortcut-targets-by-id/15I37gBpPgYtX7PojExDuiymMuq3tndBF/Fraud_Finance_Data/Prices/2019-2020/OGKB.csv', '/content/drive/.shortcut-targets-by-id/15I37gBpPgYtX7PojExDuiymMuq3tndBF/Fraud_Finance_Data/Prices/2019-2020/OMZZP.csv', '/content/drive/.shortcut-targets-by-id/15I37gBpPgYtX7PojExDuiymMuq3tndBF/Fraud_Finance_Data/Prices/2019-2020/OPIN.csv', '/content/drive/.shortcut-targets-by-id/15I37gBpPgYtX7PojExDuiymMuq3tndBF/Fraud_Finance_Data/Prices/2019-2020/PAZA.csv', '/content/drive/.shortcut-targets-by-id/15I37gBpPgYtX7PojExDuiymMuq3tndBF/Fraud_Finance_Data/Prices/2019-2020/PHOR.csv', '/content/drive/.shortcut-targets-by-id/15I37gBpPgYtX7PojExDuiymMuq3tndBF/Fraud_Finance_Data/Prices/2019-2020/PIKK.csv', '/content/drive/.shortcut-targets-by-id/15I37gBpPgYtX7PojExDuiymMuq3tndBF/Fraud_Finance_Data/Prices/2019-2020/PLSM.csv', '/content/drive/.shortcut-targets-by-id/15I37gBpPgYtX7PojExDuiymMuq3tndBF/Fraud_Finance_Data/Prices/2019-2020/PLZL.csv', '/content/drive/.shortcut-targets-by-id/15I37gBpPgYtX7PojExDuiymMuq3tndBF/Fraud_Finance_Data/Prices/2019-2020/PMSB.csv', '/content/drive/.shortcut-targets-by-id/15I37gBpPgYtX7PojExDuiymMuq3tndBF/Fraud_Finance_Data/Prices/2019-2020/PMSBP.csv', '/content/drive/.shortcut-targets-by-id/15I37gBpPgYtX7PojExDuiymMuq3tndBF/Fraud_Finance_Data/Prices/2019-2020/POLY.csv', '/content/drive/.shortcut-targets-by-id/15I37gBpPgYtX7PojExDuiymMuq3tndBF/Fraud_Finance_Data/Prices/2019-2020/PRFN.csv', '/content/drive/.shortcut-targets-by-id/15I37gBpPgYtX7PojExDuiymMuq3tndBF/Fraud_Finance_Data/Prices/2019-2020/PRMB.csv', '/content/drive/.shortcut-targets-by-id/15I37gBpPgYtX7PojExDuiymMuq3tndBF/Fraud_Finance_Data/Prices/2019-2020/SELG.csv', '/content/drive/.shortcut-targets-by-id/15I37gBpPgYtX7PojExDuiymMuq3tndBF/Fraud_Finance_Data/Prices/2019-2020/SELGP.csv', '/content/drive/.shortcut-targets-by-id/15I37gBpPgYtX7PojExDuiymMuq3tndBF/Fraud_Finance_Data/Prices/2019-2020/SIBG.csv', '/content/drive/.shortcut-targets-by-id/15I37gBpPgYtX7PojExDuiymMuq3tndBF/Fraud_Finance_Data/Prices/2019-2020/SIBN.csv', '/content/drive/.shortcut-targets-by-id/15I37gBpPgYtX7PojExDuiymMuq3tndBF/Fraud_Finance_Data/Prices/2019-2020/SNGS.csv', '/content/drive/.shortcut-targets-by-id/15I37gBpPgYtX7PojExDuiymMuq3tndBF/Fraud_Finance_Data/Prices/2019-2020/SNGSP.csv', '/content/drive/.shortcut-targets-by-id/15I37gBpPgYtX7PojExDuiymMuq3tndBF/Fraud_Finance_Data/Prices/2019-2020/STSB.csv', '/content/drive/.shortcut-targets-by-id/15I37gBpPgYtX7PojExDuiymMuq3tndBF/Fraud_Finance_Data/Prices/2019-2020/STSBP.csv', '/content/drive/.shortcut-targets-by-id/15I37gBpPgYtX7PojExDuiymMuq3tndBF/Fraud_Finance_Data/Prices/2019-2020/SVAV.csv', '/content/drive/.shortcut-targets-by-id/15I37gBpPgYtX7PojExDuiymMuq3tndBF/Fraud_Finance_Data/Prices/2019-2020/SYNG.csv', '/content/drive/.shortcut-targets-by-id/15I37gBpPgYtX7PojExDuiymMuq3tndBF/Fraud_Finance_Data/Prices/2019-2020/SZPR.csv', '/content/drive/.shortcut-targets-by-id/15I37gBpPgYtX7PojExDuiymMuq3tndBF/Fraud_Finance_Data/Prices/2019-2020/TANL.csv', '/content/drive/.shortcut-targets-by-id/15I37gBpPgYtX7PojExDuiymMuq3tndBF/Fraud_Finance_Data/Prices/2019-2020/TASB.csv', '/content/drive/.shortcut-targets-by-id/15I37gBpPgYtX7PojExDuiymMuq3tndBF/Fraud_Finance_Data/Prices/2019-2020/TASBP.csv', '/content/drive/.shortcut-targets-by-id/15I37gBpPgYtX7PojExDuiymMuq3tndBF/Fraud_Finance_Data/Prices/2019-2020/TATN.csv', '/content/drive/.shortcut-targets-by-id/15I37gBpPgYtX7PojExDuiymMuq3tndBF/Fraud_Finance_Data/Prices/2019-2020/TATNP.csv', '/content/drive/.shortcut-targets-by-id/15I37gBpPgYtX7PojExDuiymMuq3tndBF/Fraud_Finance_Data/Prices/2019-2020/TGKA.csv', '/content/drive/.shortcut-targets-by-id/15I37gBpPgYtX7PojExDuiymMuq3tndBF/Fraud_Finance_Data/Prices/2019-2020/TGKB.csv', '/content/drive/.shortcut-targets-by-id/15I37gBpPgYtX7PojExDuiymMuq3tndBF/Fraud_Finance_Data/Prices/2019-2020/TGKBP.csv', '/content/drive/.shortcut-targets-by-id/15I37gBpPgYtX7PojExDuiymMuq3tndBF/Fraud_Finance_Data/Prices/2019-2020/TGKD.csv', '/content/drive/.shortcut-targets-by-id/15I37gBpPgYtX7PojExDuiymMuq3tndBF/Fraud_Finance_Data/Prices/2019-2020/TGKDP.csv', '/content/drive/.shortcut-targets-by-id/15I37gBpPgYtX7PojExDuiymMuq3tndBF/Fraud_Finance_Data/Prices/2019-2020/TGKN.csv', '/content/drive/.shortcut-targets-by-id/15I37gBpPgYtX7PojExDuiymMuq3tndBF/Fraud_Finance_Data/Prices/2019-2020/TNSE.csv', '/content/drive/.shortcut-targets-by-id/15I37gBpPgYtX7PojExDuiymMuq3tndBF/Fraud_Finance_Data/Prices/2019-2020/TORS.csv', '/content/drive/.shortcut-targets-by-id/15I37gBpPgYtX7PojExDuiymMuq3tndBF/Fraud_Finance_Data/Prices/2019-2020/TORSP.csv', '/content/drive/.shortcut-targets-by-id/15I37gBpPgYtX7PojExDuiymMuq3tndBF/Fraud_Finance_Data/Prices/2019-2020/TRCN.csv', '/content/drive/.shortcut-targets-by-id/15I37gBpPgYtX7PojExDuiymMuq3tndBF/Fraud_Finance_Data/Prices/2019-2020/TRMK.csv', '/content/drive/.shortcut-targets-by-id/15I37gBpPgYtX7PojExDuiymMuq3tndBF/Fraud_Finance_Data/Prices/2019-2020/TRNFP.csv', '/content/drive/.shortcut-targets-by-id/15I37gBpPgYtX7PojExDuiymMuq3tndBF/Fraud_Finance_Data/Prices/2019-2020/TTLK.csv', '/content/drive/.shortcut-targets-by-id/15I37gBpPgYtX7PojExDuiymMuq3tndBF/Fraud_Finance_Data/Prices/2019-2020/TUCH.csv', '/content/drive/.shortcut-targets-by-id/15I37gBpPgYtX7PojExDuiymMuq3tndBF/Fraud_Finance_Data/Prices/2019-2020/TUZA.csv', '/content/drive/.shortcut-targets-by-id/15I37gBpPgYtX7PojExDuiymMuq3tndBF/Fraud_Finance_Data/Prices/2019-2020/UCSS.csv', '/content/drive/.shortcut-targets-by-id/15I37gBpPgYtX7PojExDuiymMuq3tndBF/Fraud_Finance_Data/Prices/2019-2020/UKUZ.csv', '/content/drive/.shortcut-targets-by-id/15I37gBpPgYtX7PojExDuiymMuq3tndBF/Fraud_Finance_Data/Prices/2019-2020/UNAC.csv', '/content/drive/.shortcut-targets-by-id/15I37gBpPgYtX7PojExDuiymMuq3tndBF/Fraud_Finance_Data/Prices/2019-2020/UNKL.csv', '/content/drive/.shortcut-targets-by-id/15I37gBpPgYtX7PojExDuiymMuq3tndBF/Fraud_Finance_Data/Prices/2019-2020/UPRO.csv', '/content/drive/.shortcut-targets-by-id/15I37gBpPgYtX7PojExDuiymMuq3tndBF/Fraud_Finance_Data/Prices/2019-2020/URKZ.csv', '/content/drive/.shortcut-targets-by-id/15I37gBpPgYtX7PojExDuiymMuq3tndBF/Fraud_Finance_Data/Prices/2019-2020/URKA.csv', '/content/drive/.shortcut-targets-by-id/15I37gBpPgYtX7PojExDuiymMuq3tndBF/Fraud_Finance_Data/Prices/2019-2020/USBN.csv', '/content/drive/.shortcut-targets-by-id/15I37gBpPgYtX7PojExDuiymMuq3tndBF/Fraud_Finance_Data/Prices/2019-2020/UTAR.csv', '/content/drive/.shortcut-targets-by-id/15I37gBpPgYtX7PojExDuiymMuq3tndBF/Fraud_Finance_Data/Prices/2019-2020/UWGN.csv', '/content/drive/.shortcut-targets-by-id/15I37gBpPgYtX7PojExDuiymMuq3tndBF/Fraud_Finance_Data/Prices/2019-2020/VDSB.csv', '/content/drive/.shortcut-targets-by-id/15I37gBpPgYtX7PojExDuiymMuq3tndBF/Fraud_Finance_Data/Prices/2019-2020/VGSB.csv', '/content/drive/.shortcut-targets-by-id/15I37gBpPgYtX7PojExDuiymMuq3tndBF/Fraud_Finance_Data/Prices/2019-2020/VGSBP.csv', '/content/drive/.shortcut-targets-by-id/15I37gBpPgYtX7PojExDuiymMuq3tndBF/Fraud_Finance_Data/Prices/2019-2020/VJGZ.csv', '/content/drive/.shortcut-targets-by-id/15I37gBpPgYtX7PojExDuiymMuq3tndBF/Fraud_Finance_Data/Prices/2019-2020/VJGZP.csv', '/content/drive/.shortcut-targets-by-id/15I37gBpPgYtX7PojExDuiymMuq3tndBF/Fraud_Finance_Data/Prices/2019-2020/VLHZ.csv', '/content/drive/.shortcut-targets-by-id/15I37gBpPgYtX7PojExDuiymMuq3tndBF/Fraud_Finance_Data/Prices/2019-2020/VRSB.csv', '/content/drive/.shortcut-targets-by-id/15I37gBpPgYtX7PojExDuiymMuq3tndBF/Fraud_Finance_Data/Prices/2019-2020/VRSBP.csv', '/content/drive/.shortcut-targets-by-id/15I37gBpPgYtX7PojExDuiymMuq3tndBF/Fraud_Finance_Data/Prices/2019-2020/VSMO.csv', '/content/drive/.shortcut-targets-by-id/15I37gBpPgYtX7PojExDuiymMuq3tndBF/Fraud_Finance_Data/Prices/2019-2020/VSYD.csv', '/content/drive/.shortcut-targets-by-id/15I37gBpPgYtX7PojExDuiymMuq3tndBF/Fraud_Finance_Data/Prices/2019-2020/VSYDP.csv', '/content/drive/.shortcut-targets-by-id/15I37gBpPgYtX7PojExDuiymMuq3tndBF/Fraud_Finance_Data/Prices/2019-2020/VTBR.csv', '/content/drive/.shortcut-targets-by-id/15I37gBpPgYtX7PojExDuiymMuq3tndBF/Fraud_Finance_Data/Prices/2019-2020/VZRZ.csv', '/content/drive/.shortcut-targets-by-id/15I37gBpPgYtX7PojExDuiymMuq3tndBF/Fraud_Finance_Data/Prices/2019-2020/KUBE.csv', '/content/drive/.shortcut-targets-by-id/15I37gBpPgYtX7PojExDuiymMuq3tndBF/Fraud_Finance_Data/Prices/2019-2020/KUZB.csv', '/content/drive/.shortcut-targets-by-id/15I37gBpPgYtX7PojExDuiymMuq3tndBF/Fraud_Finance_Data/Prices/2019-2020/KZOS.csv', '/content/drive/.shortcut-targets-by-id/15I37gBpPgYtX7PojExDuiymMuq3tndBF/Fraud_Finance_Data/Prices/2019-2020/KZOSP.csv', '/content/drive/.shortcut-targets-by-id/15I37gBpPgYtX7PojExDuiymMuq3tndBF/Fraud_Finance_Data/Prices/2019-2020/LIFE.csv', '/content/drive/.shortcut-targets-by-id/15I37gBpPgYtX7PojExDuiymMuq3tndBF/Fraud_Finance_Data/Prices/2019-2020/LNTA.csv', '/content/drive/.shortcut-targets-by-id/15I37gBpPgYtX7PojExDuiymMuq3tndBF/Fraud_Finance_Data/Prices/2019-2020/LNZL.csv', '/content/drive/.shortcut-targets-by-id/15I37gBpPgYtX7PojExDuiymMuq3tndBF/Fraud_Finance_Data/Prices/2019-2020/LNZLP.csv', '/content/drive/.shortcut-targets-by-id/15I37gBpPgYtX7PojExDuiymMuq3tndBF/Fraud_Finance_Data/Prices/2019-2020/LPSB.csv', '/content/drive/.shortcut-targets-by-id/15I37gBpPgYtX7PojExDuiymMuq3tndBF/Fraud_Finance_Data/Prices/2019-2020/LSNG.csv', '/content/drive/.shortcut-targets-by-id/15I37gBpPgYtX7PojExDuiymMuq3tndBF/Fraud_Finance_Data/Prices/2019-2020/LSNGP.csv', '/content/drive/.shortcut-targets-by-id/15I37gBpPgYtX7PojExDuiymMuq3tndBF/Fraud_Finance_Data/Prices/2019-2020/LSRG.csv', '/content/drive/.shortcut-targets-by-id/15I37gBpPgYtX7PojExDuiymMuq3tndBF/Fraud_Finance_Data/Prices/2019-2020/LVHK.csv', '/content/drive/.shortcut-targets-by-id/15I37gBpPgYtX7PojExDuiymMuq3tndBF/Fraud_Finance_Data/Prices/2019-2020/MAGE.csv', '/content/drive/.shortcut-targets-by-id/15I37gBpPgYtX7PojExDuiymMuq3tndBF/Fraud_Finance_Data/Prices/2019-2020/MAGEP.csv', '/content/drive/.shortcut-targets-by-id/15I37gBpPgYtX7PojExDuiymMuq3tndBF/Fraud_Finance_Data/Prices/2019-2020/MAGN.csv', '/content/drive/.shortcut-targets-by-id/15I37gBpPgYtX7PojExDuiymMuq3tndBF/Fraud_Finance_Data/Prices/2019-2020/RGSS.csv', '/content/drive/.shortcut-targets-by-id/15I37gBpPgYtX7PojExDuiymMuq3tndBF/Fraud_Finance_Data/Prices/2019-2020/RKKE.csv', '/content/drive/.shortcut-targets-by-id/15I37gBpPgYtX7PojExDuiymMuq3tndBF/Fraud_Finance_Data/Prices/2019-2020/RLMN.csv', '/content/drive/.shortcut-targets-by-id/15I37gBpPgYtX7PojExDuiymMuq3tndBF/Fraud_Finance_Data/Prices/2019-2020/RLMNP.csv', '/content/drive/.shortcut-targets-by-id/15I37gBpPgYtX7PojExDuiymMuq3tndBF/Fraud_Finance_Data/Prices/2019-2020/ROLO.csv', '/content/drive/.shortcut-targets-by-id/15I37gBpPgYtX7PojExDuiymMuq3tndBF/Fraud_Finance_Data/Prices/2019-2020/ROSB.csv', '/content/drive/.shortcut-targets-by-id/15I37gBpPgYtX7PojExDuiymMuq3tndBF/Fraud_Finance_Data/Prices/2019-2020/ROSN.csv', '/content/drive/.shortcut-targets-by-id/15I37gBpPgYtX7PojExDuiymMuq3tndBF/Fraud_Finance_Data/Prices/2019-2020/ROST.csv', '/content/drive/.shortcut-targets-by-id/15I37gBpPgYtX7PojExDuiymMuq3tndBF/Fraud_Finance_Data/Prices/2019-2020/RSTI.csv', '/content/drive/.shortcut-targets-by-id/15I37gBpPgYtX7PojExDuiymMuq3tndBF/Fraud_Finance_Data/Prices/2019-2020/RSTIP.csv', '/content/drive/.shortcut-targets-by-id/15I37gBpPgYtX7PojExDuiymMuq3tndBF/Fraud_Finance_Data/Prices/2019-2020/RTGZ.csv', '/content/drive/.shortcut-targets-by-id/15I37gBpPgYtX7PojExDuiymMuq3tndBF/Fraud_Finance_Data/Prices/2019-2020/RTKM.csv', '/content/drive/.shortcut-targets-by-id/15I37gBpPgYtX7PojExDuiymMuq3tndBF/Fraud_Finance_Data/Prices/2019-2020/RTKMP.csv', '/content/drive/.shortcut-targets-by-id/15I37gBpPgYtX7PojExDuiymMuq3tndBF/Fraud_Finance_Data/Prices/2019-2020/RTSB.csv', '/content/drive/.shortcut-targets-by-id/15I37gBpPgYtX7PojExDuiymMuq3tndBF/Fraud_Finance_Data/Prices/2019-2020/RTSBP.csv', '/content/drive/.shortcut-targets-by-id/15I37gBpPgYtX7PojExDuiymMuq3tndBF/Fraud_Finance_Data/Prices/2019-2020/RUAL.csv', '/content/drive/.shortcut-targets-by-id/15I37gBpPgYtX7PojExDuiymMuq3tndBF/Fraud_Finance_Data/Prices/2019-2020/RUGR.csv', '/content/drive/.shortcut-targets-by-id/15I37gBpPgYtX7PojExDuiymMuq3tndBF/Fraud_Finance_Data/Prices/2019-2020/RUSI.csv', '/content/drive/.shortcut-targets-by-id/15I37gBpPgYtX7PojExDuiymMuq3tndBF/Fraud_Finance_Data/Prices/2019-2020/RUSP.csv', '/content/drive/.shortcut-targets-by-id/15I37gBpPgYtX7PojExDuiymMuq3tndBF/Fraud_Finance_Data/Prices/2019-2020/RZSB.csv', '/content/drive/.shortcut-targets-by-id/15I37gBpPgYtX7PojExDuiymMuq3tndBF/Fraud_Finance_Data/Prices/2019-2020/SAGO.csv', '/content/drive/.shortcut-targets-by-id/15I37gBpPgYtX7PojExDuiymMuq3tndBF/Fraud_Finance_Data/Prices/2019-2020/SAGOP.csv', '/content/drive/.shortcut-targets-by-id/15I37gBpPgYtX7PojExDuiymMuq3tndBF/Fraud_Finance_Data/Prices/2019-2020/SARE.csv', '/content/drive/.shortcut-targets-by-id/15I37gBpPgYtX7PojExDuiymMuq3tndBF/Fraud_Finance_Data/Prices/2019-2020/SAREP.csv', '/content/drive/.shortcut-targets-by-id/15I37gBpPgYtX7PojExDuiymMuq3tndBF/Fraud_Finance_Data/Prices/2019-2020/SBER.csv', '/content/drive/.shortcut-targets-by-id/15I37gBpPgYtX7PojExDuiymMuq3tndBF/Fraud_Finance_Data/Prices/2019-2020/SBERP.csv', '/content/drive/.shortcut-targets-by-id/15I37gBpPgYtX7PojExDuiymMuq3tndBF/Fraud_Finance_Data/Prices/2019-2020/YRSB.csv', '/content/drive/.shortcut-targets-by-id/15I37gBpPgYtX7PojExDuiymMuq3tndBF/Fraud_Finance_Data/Prices/2019-2020/YRSBP.csv', '/content/drive/.shortcut-targets-by-id/15I37gBpPgYtX7PojExDuiymMuq3tndBF/Fraud_Finance_Data/Prices/2019-2020/ZILL.csv', '/content/drive/.shortcut-targets-by-id/15I37gBpPgYtX7PojExDuiymMuq3tndBF/Fraud_Finance_Data/Prices/2019-2020/ZVEZ.csv', '/content/drive/.shortcut-targets-by-id/15I37gBpPgYtX7PojExDuiymMuq3tndBF/Fraud_Finance_Data/Prices/2019-2020/KTSB.csv', '/content/drive/.shortcut-targets-by-id/15I37gBpPgYtX7PojExDuiymMuq3tndBF/Fraud_Finance_Data/Prices/2019-2020/KTSBP.csv', '/content/drive/.shortcut-targets-by-id/15I37gBpPgYtX7PojExDuiymMuq3tndBF/Fraud_Finance_Data/Prices/2019-2020/PRTK.csv', '/content/drive/.shortcut-targets-by-id/15I37gBpPgYtX7PojExDuiymMuq3tndBF/Fraud_Finance_Data/Prices/2019-2020/QIWI.csv', '/content/drive/.shortcut-targets-by-id/15I37gBpPgYtX7PojExDuiymMuq3tndBF/Fraud_Finance_Data/Prices/2019-2020/RASP.csv', '/content/drive/.shortcut-targets-by-id/15I37gBpPgYtX7PojExDuiymMuq3tndBF/Fraud_Finance_Data/Prices/2019-2020/RBCM.csv', '/content/drive/.shortcut-targets-by-id/15I37gBpPgYtX7PojExDuiymMuq3tndBF/Fraud_Finance_Data/Prices/2019-2020/RDRB.csv', '/content/drive/.shortcut-targets-by-id/15I37gBpPgYtX7PojExDuiymMuq3tndBF/Fraud_Finance_Data/Prices/2019-2020/VZRZP.csv', '/content/drive/.shortcut-targets-by-id/15I37gBpPgYtX7PojExDuiymMuq3tndBF/Fraud_Finance_Data/Prices/2019-2020/WTCM.csv', '/content/drive/.shortcut-targets-by-id/15I37gBpPgYtX7PojExDuiymMuq3tndBF/Fraud_Finance_Data/Prices/2019-2020/WTCMP.csv', '/content/drive/.shortcut-targets-by-id/15I37gBpPgYtX7PojExDuiymMuq3tndBF/Fraud_Finance_Data/Prices/2019-2020/YAKG.csv', '/content/drive/.shortcut-targets-by-id/15I37gBpPgYtX7PojExDuiymMuq3tndBF/Fraud_Finance_Data/Prices/2019-2020/YKEN.csv', '/content/drive/.shortcut-targets-by-id/15I37gBpPgYtX7PojExDuiymMuq3tndBF/Fraud_Finance_Data/Prices/2019-2020/YKENP.csv', '/content/drive/.shortcut-targets-by-id/15I37gBpPgYtX7PojExDuiymMuq3tndBF/Fraud_Finance_Data/Prices/2019-2020/YNDX.csv', '/content/drive/.shortcut-targets-by-id/15I37gBpPgYtX7PojExDuiymMuq3tndBF/Fraud_Finance_Data/Prices/2019-2020/GEMA.csv', '/content/drive/.shortcut-targets-by-id/15I37gBpPgYtX7PojExDuiymMuq3tndBF/Fraud_Finance_Data/Prices/2019-2020/GTRK.csv']\n"
          ]
        }
      ]
    },
    {
      "cell_type": "code",
      "metadata": {
        "id": "YRdkotpe3MV-"
      },
      "source": [
        "prices = []\n",
        "\n",
        "os.chdir(\"/content/drive/My Drive/Fraud_Finance_Data/Prices/2019-2020/\")\n",
        "path = os.getcwd()\n",
        "csv_files = glob.glob(os.path.join(path, \"*.csv\"))\n",
        "\n",
        "for filename in csv_files:\n",
        "    df_next = pd.read_csv(filename, index_col=None, header=0)\n",
        "    prices.append(df_next)\n",
        "\n",
        "\n",
        "os.chdir(\"/content/drive/My Drive/Fraud_Finance_Data/Prices/2021/\")\n",
        "path = os.getcwd()\n",
        "csv_files = glob.glob(os.path.join(path, \"*.csv\"))\n",
        "\n",
        "for filename in csv_files:\n",
        "    df_next = pd.read_csv(filename, index_col=None, header=0)\n",
        "    prices.append(df_next)\n",
        "\n",
        "prices_all = pd.concat(prices, axis=0, ignore_index=True)"
      ],
      "execution_count": null,
      "outputs": []
    },
    {
      "cell_type": "code",
      "metadata": {
        "colab": {
          "base_uri": "https://localhost:8080/",
          "height": 141
        },
        "id": "wR6Yth4g3TBC",
        "outputId": "fa1f68c7-16a0-4090-9fbb-def421a16754"
      },
      "source": [
        "prices_all.tail(3)\n",
        "#28688806"
      ],
      "execution_count": null,
      "outputs": [
        {
          "output_type": "execute_result",
          "data": {
            "text/html": [
              "<div>\n",
              "<style scoped>\n",
              "    .dataframe tbody tr th:only-of-type {\n",
              "        vertical-align: middle;\n",
              "    }\n",
              "\n",
              "    .dataframe tbody tr th {\n",
              "        vertical-align: top;\n",
              "    }\n",
              "\n",
              "    .dataframe thead th {\n",
              "        text-align: right;\n",
              "    }\n",
              "</style>\n",
              "<table border=\"1\" class=\"dataframe\">\n",
              "  <thead>\n",
              "    <tr style=\"text-align: right;\">\n",
              "      <th></th>\n",
              "      <th>&lt;TICKER&gt;</th>\n",
              "      <th>&lt;PER&gt;</th>\n",
              "      <th>&lt;DATE&gt;</th>\n",
              "      <th>&lt;TIME&gt;</th>\n",
              "      <th>&lt;OPEN&gt;</th>\n",
              "      <th>&lt;HIGH&gt;</th>\n",
              "      <th>&lt;LOW&gt;</th>\n",
              "      <th>&lt;CLOSE&gt;</th>\n",
              "      <th>&lt;VOL&gt;</th>\n",
              "    </tr>\n",
              "  </thead>\n",
              "  <tbody>\n",
              "    <tr>\n",
              "      <th>28688804</th>\n",
              "      <td>ZVEZ</td>\n",
              "      <td>1</td>\n",
              "      <td>24.09.2021</td>\n",
              "      <td>14:10:00</td>\n",
              "      <td>4.270</td>\n",
              "      <td>4.270</td>\n",
              "      <td>4.270</td>\n",
              "      <td>4.270</td>\n",
              "      <td>1000</td>\n",
              "    </tr>\n",
              "    <tr>\n",
              "      <th>28688805</th>\n",
              "      <td>ZVEZ</td>\n",
              "      <td>1</td>\n",
              "      <td>24.09.2021</td>\n",
              "      <td>17:14:00</td>\n",
              "      <td>4.205</td>\n",
              "      <td>4.205</td>\n",
              "      <td>4.205</td>\n",
              "      <td>4.205</td>\n",
              "      <td>4000</td>\n",
              "    </tr>\n",
              "    <tr>\n",
              "      <th>28688806</th>\n",
              "      <td>ZVEZ</td>\n",
              "      <td>1</td>\n",
              "      <td>24.09.2021</td>\n",
              "      <td>18:45:00</td>\n",
              "      <td>4.290</td>\n",
              "      <td>4.290</td>\n",
              "      <td>4.290</td>\n",
              "      <td>4.290</td>\n",
              "      <td>2000</td>\n",
              "    </tr>\n",
              "  </tbody>\n",
              "</table>\n",
              "</div>"
            ],
            "text/plain": [
              "         <TICKER>  <PER>      <DATE>    <TIME>  ...  <HIGH>  <LOW>  <CLOSE>  <VOL>\n",
              "28688804     ZVEZ      1  24.09.2021  14:10:00  ...   4.270  4.270    4.270   1000\n",
              "28688805     ZVEZ      1  24.09.2021  17:14:00  ...   4.205  4.205    4.205   4000\n",
              "28688806     ZVEZ      1  24.09.2021  18:45:00  ...   4.290  4.290    4.290   2000\n",
              "\n",
              "[3 rows x 9 columns]"
            ]
          },
          "metadata": {},
          "execution_count": 41
        }
      ]
    },
    {
      "cell_type": "code",
      "metadata": {
        "id": "pbGQV0Ku5DKr"
      },
      "source": [
        ""
      ],
      "execution_count": null,
      "outputs": []
    },
    {
      "cell_type": "markdown",
      "metadata": {
        "id": "vDNs-Q1T2vUw"
      },
      "source": [
        "#Загрузка marked_news"
      ]
    },
    {
      "cell_type": "code",
      "metadata": {
        "id": "CKifsCQ42KcP"
      },
      "source": [
        "marked_news = pd.read_csv(\"/content/drive/My Drive/Fraud_Finance_Data/News/marked_news.csv\"\n",
        "                            , delimiter=';'\n",
        "                            # , nrows=5\n",
        "                          )\n",
        "marked_news = marked_news.rename(columns={\"class\": \"target\"})\n",
        "marked_news = marked_news.drop_duplicates()"
      ],
      "execution_count": null,
      "outputs": []
    },
    {
      "cell_type": "markdown",
      "metadata": {
        "id": "ttjix1tSRhqk"
      },
      "source": [
        "##Pre-clearing"
      ]
    },
    {
      "cell_type": "code",
      "metadata": {
        "id": "FJeiEOpERiDE"
      },
      "source": [
        "morph = pymorphy2.MorphAnalyzer() #for lammatization\n",
        "def preprocessing(s):\n",
        "  s = s.lower()\n",
        "  s = tokenize(s)\n",
        "  s = [i.text for i in s]\n",
        "  lemmas = []\n",
        "  for i in s:\n",
        "    lemmas.append( morph.parse(i)[0].normal_form )\n",
        "  return lemmas"
      ],
      "execution_count": null,
      "outputs": []
    },
    {
      "cell_type": "markdown",
      "metadata": {
        "id": "JnXeASBoXfj8"
      },
      "source": [
        "##Cleaning"
      ]
    },
    {
      "cell_type": "code",
      "metadata": {
        "colab": {
          "base_uri": "https://localhost:8080/"
        },
        "id": "82JajxDAW-AP",
        "outputId": "8cf115f2-078e-4a5f-8aa6-4b4d6175cc90"
      },
      "source": [
        "marked_news['text_cleaning'] = marked_news.text.progress_apply(preprocessing)\n"
      ],
      "execution_count": null,
      "outputs": [
        {
          "output_type": "stream",
          "name": "stderr",
          "text": [
            "100%|██████████| 7668/7668 [04:10<00:00, 30.60it/s]\n"
          ]
        }
      ]
    },
    {
      "cell_type": "code",
      "metadata": {
        "colab": {
          "base_uri": "https://localhost:8080/"
        },
        "id": "TQlyRTcFeFoc",
        "outputId": "223141f9-2ed0-4a16-a33c-ae93178af660"
      },
      "source": [
        "marked_news['text_union'] = marked_news.text_cleaning.progress_apply(lambda x: \" \".join(x))"
      ],
      "execution_count": null,
      "outputs": [
        {
          "output_type": "stream",
          "name": "stderr",
          "text": [
            "100%|██████████| 7668/7668 [00:00<00:00, 96264.07it/s]\n"
          ]
        }
      ]
    },
    {
      "cell_type": "code",
      "metadata": {
        "colab": {
          "base_uri": "https://localhost:8080/",
          "height": 173
        },
        "id": "L7pD4IXPaAJu",
        "outputId": "83885dfe-7fed-4112-8449-a2dba7f16f97"
      },
      "source": [
        "marked_news[['text', 'text_cleaning', 'text_union']].head(4)"
      ],
      "execution_count": null,
      "outputs": [
        {
          "output_type": "execute_result",
          "data": {
            "text/html": [
              "<div>\n",
              "<style scoped>\n",
              "    .dataframe tbody tr th:only-of-type {\n",
              "        vertical-align: middle;\n",
              "    }\n",
              "\n",
              "    .dataframe tbody tr th {\n",
              "        vertical-align: top;\n",
              "    }\n",
              "\n",
              "    .dataframe thead th {\n",
              "        text-align: right;\n",
              "    }\n",
              "</style>\n",
              "<table border=\"1\" class=\"dataframe\">\n",
              "  <thead>\n",
              "    <tr style=\"text-align: right;\">\n",
              "      <th></th>\n",
              "      <th>text</th>\n",
              "      <th>text_cleaning</th>\n",
              "      <th>text_union</th>\n",
              "    </tr>\n",
              "  </thead>\n",
              "  <tbody>\n",
              "    <tr>\n",
              "      <th>0</th>\n",
              "      <td>🔥 ❗️ 🇨🇳 🇺🇸 #торговыевойныкитай Китай обещает у...</td>\n",
              "      <td>[🔥, ❗️, 🇨🇳, 🇺🇸, #, торговыевойныкитай, китай, ...</td>\n",
              "      <td>🔥 ❗️ 🇨🇳 🇺🇸 # торговыевойныкитай китай обещать ...</td>\n",
              "    </tr>\n",
              "    <tr>\n",
              "      <th>1</th>\n",
              "      <td>Франк может подешеветь на фоне опасений Нацбан...</td>\n",
              "      <td>[франк, мочь, подешеветь, на, фон, опасение, н...</td>\n",
              "      <td>франк мочь подешеветь на фон опасение нацбанк ...</td>\n",
              "    </tr>\n",
              "    <tr>\n",
              "      <th>2</th>\n",
              "      <td>Сюжет ТВЦ о проекте, «который позволяет его уч...</td>\n",
              "      <td>[сюжет, твц, о, проект, ,, «, который, позволя...</td>\n",
              "      <td>сюжет твц о проект , « который позволять он уч...</td>\n",
              "    </tr>\n",
              "    <tr>\n",
              "      <th>3</th>\n",
              "      <td>Boeing представил свой прототип летающего авто...</td>\n",
              "      <td>[boeing, представить, свой, прототип, летать, ...</td>\n",
              "      <td>boeing представить свой прототип летать автомо...</td>\n",
              "    </tr>\n",
              "  </tbody>\n",
              "</table>\n",
              "</div>"
            ],
            "text/plain": [
              "                                                text  ...                                         text_union\n",
              "0  🔥 ❗️ 🇨🇳 🇺🇸 #торговыевойныкитай Китай обещает у...  ...  🔥 ❗️ 🇨🇳 🇺🇸 # торговыевойныкитай китай обещать ...\n",
              "1  Франк может подешеветь на фоне опасений Нацбан...  ...  франк мочь подешеветь на фон опасение нацбанк ...\n",
              "2  Сюжет ТВЦ о проекте, «который позволяет его уч...  ...  сюжет твц о проект , « который позволять он уч...\n",
              "3  Boeing представил свой прототип летающего авто...  ...  boeing представить свой прототип летать автомо...\n",
              "\n",
              "[4 rows x 3 columns]"
            ]
          },
          "metadata": {},
          "execution_count": 10
        }
      ]
    },
    {
      "cell_type": "code",
      "metadata": {
        "id": "DEjta-RVc0il"
      },
      "source": [
        "train, test  = train_test_split(marked_news, random_state=1, test_size=0.2)"
      ],
      "execution_count": null,
      "outputs": []
    },
    {
      "cell_type": "code",
      "metadata": {
        "colab": {
          "base_uri": "https://localhost:8080/",
          "height": 247
        },
        "id": "8c6JnVb5dyWt",
        "outputId": "44f28e6f-d5de-4e93-be81-f0a06f0966d8"
      },
      "source": [
        "test.head(2)"
      ],
      "execution_count": null,
      "outputs": [
        {
          "output_type": "execute_result",
          "data": {
            "text/html": [
              "<div>\n",
              "<style scoped>\n",
              "    .dataframe tbody tr th:only-of-type {\n",
              "        vertical-align: middle;\n",
              "    }\n",
              "\n",
              "    .dataframe tbody tr th {\n",
              "        vertical-align: top;\n",
              "    }\n",
              "\n",
              "    .dataframe thead th {\n",
              "        text-align: right;\n",
              "    }\n",
              "</style>\n",
              "<table border=\"1\" class=\"dataframe\">\n",
              "  <thead>\n",
              "    <tr style=\"text-align: right;\">\n",
              "      <th></th>\n",
              "      <th>channel</th>\n",
              "      <th>channel_id</th>\n",
              "      <th>members</th>\n",
              "      <th>post_id</th>\n",
              "      <th>date</th>\n",
              "      <th>url</th>\n",
              "      <th>views</th>\n",
              "      <th>cover_ratio</th>\n",
              "      <th>ticker</th>\n",
              "      <th>text</th>\n",
              "      <th>author</th>\n",
              "      <th>likes</th>\n",
              "      <th>tickers</th>\n",
              "      <th>target</th>\n",
              "      <th>text_cleaning</th>\n",
              "      <th>text_union</th>\n",
              "    </tr>\n",
              "  </thead>\n",
              "  <tbody>\n",
              "    <tr>\n",
              "      <th>2725</th>\n",
              "      <td>Дивиденды Forever</td>\n",
              "      <td>divForever</td>\n",
              "      <td>69000</td>\n",
              "      <td>4535</td>\n",
              "      <td>2020.02.27 17:13:39</td>\n",
              "      <td>t.me/divForever/4535</td>\n",
              "      <td>18</td>\n",
              "      <td>0.0</td>\n",
              "      <td>$GMKN</td>\n",
              "      <td>''#GMKN Норильский никель. Обзор финансовых по...</td>\n",
              "      <td>NaN</td>\n",
              "      <td>NaN</td>\n",
              "      <td>#GMKN #HPQ-RM #OBUV #RDRB #ROSB #ZILL</td>\n",
              "      <td>0</td>\n",
              "      <td>[', ', #, gmkn, норильский, никель, ., обзор, ...</td>\n",
              "      <td>' ' # gmkn норильский никель . обзор финансовы...</td>\n",
              "    </tr>\n",
              "    <tr>\n",
              "      <th>1305</th>\n",
              "      <td>Банкста</td>\n",
              "      <td>banksta</td>\n",
              "      <td>171000</td>\n",
              "      <td>6714</td>\n",
              "      <td>2019.12.18 15:39:19</td>\n",
              "      <td>t.me/banksta/6714</td>\n",
              "      <td>34900</td>\n",
              "      <td>0.2</td>\n",
              "      <td>NaN</td>\n",
              "      <td>''Сергей Янчуков - владелец золотодобывающей к...</td>\n",
              "      <td>NaN</td>\n",
              "      <td>NaN</td>\n",
              "      <td>#GAZA #GAZAP #OBUV #ROSB</td>\n",
              "      <td>0</td>\n",
              "      <td>[', ', сергей, янчук, -, владелец, золотодобыв...</td>\n",
              "      <td>' ' сергей янчук - владелец золотодобывающий к...</td>\n",
              "    </tr>\n",
              "  </tbody>\n",
              "</table>\n",
              "</div>"
            ],
            "text/plain": [
              "                channel  ...                                         text_union\n",
              "2725  Дивиденды Forever  ...  ' ' # gmkn норильский никель . обзор финансовы...\n",
              "1305            Банкста  ...  ' ' сергей янчук - владелец золотодобывающий к...\n",
              "\n",
              "[2 rows x 16 columns]"
            ]
          },
          "metadata": {},
          "execution_count": 23
        }
      ]
    },
    {
      "cell_type": "markdown",
      "metadata": {
        "id": "wieNOvLob1wX"
      },
      "source": [
        "##TF-IDF Vectorizer"
      ]
    },
    {
      "cell_type": "code",
      "metadata": {
        "colab": {
          "base_uri": "https://localhost:8080/"
        },
        "id": "ek-rNfWVb2Lp",
        "outputId": "c2968acd-47d0-4e0f-9fae-36eb56199a9e"
      },
      "source": [
        "stopwords = set(nltk_stopwords.words('russian'))\n",
        "\n",
        "tfidf_vectorizer = TfidfVectorizer(min_df=0.05, stop_words=stopwords)\n",
        "processed_train_tfidf = tfidf_vectorizer.fit_transform(train.text_union)\n",
        "processed_test_tfidf = tfidf_vectorizer.transform(test.text_union)\n",
        "print(processed_train_tfidf[5])"
      ],
      "execution_count": null,
      "outputs": [
        {
          "output_type": "stream",
          "name": "stdout",
          "text": [
            "  (0, 4)\t0.795715477706835\n",
            "  (0, 132)\t0.6056706023390794\n"
          ]
        }
      ]
    },
    {
      "cell_type": "markdown",
      "metadata": {
        "id": "FrJnv8kMh7X2"
      },
      "source": [
        "###GridSearchCV"
      ]
    },
    {
      "cell_type": "code",
      "metadata": {
        "id": "cIPwW96ziF2y"
      },
      "source": [
        "rf_model_tfidf_grid = RandomForestClassifier()"
      ],
      "execution_count": null,
      "outputs": []
    },
    {
      "cell_type": "code",
      "metadata": {
        "id": "DIumacc8h7ra"
      },
      "source": [
        "kfold = KFold(n_splits=5)\n",
        "grid = GridSearchCV(rf_model_tfidf_grid, cv=kfold,\n",
        "                    param_grid=[{'n_estimators': [100, 200, 250, 50, 300], \n",
        "                                 'max_depth': [5, 10, 30, 50, 100, 200]}])\n",
        "grid.fit(processed_train_tfidf, train.target)"
      ],
      "execution_count": null,
      "outputs": []
    },
    {
      "cell_type": "code",
      "metadata": {
        "colab": {
          "base_uri": "https://localhost:8080/"
        },
        "id": "xTmjO7ttm3nA",
        "outputId": "5b22ac79-e8f3-4375-e446-a09c645cf66a"
      },
      "source": [
        "grid.best_params_"
      ],
      "execution_count": null,
      "outputs": [
        {
          "output_type": "execute_result",
          "data": {
            "text/plain": [
              "{'max_depth': 30, 'n_estimators': 50}"
            ]
          },
          "metadata": {},
          "execution_count": 146
        }
      ]
    },
    {
      "cell_type": "markdown",
      "metadata": {
        "id": "HQ8qsf-dh4Ld"
      },
      "source": [
        "###RandomForestClassifier"
      ]
    },
    {
      "cell_type": "code",
      "metadata": {
        "id": "xNO-px5-grOC"
      },
      "source": [
        "rf_model_tfidf = RandomForestClassifier(n_estimators=200, max_depth=30, random_state=111, n_jobs=-1)\n",
        "# rf_model_tfidf = KNeighborsClassifier(n_neighbors=5, n_jobs=-1)\n",
        "# rf_model_tfidf = LogisticRegressionCV(solver='newton-cg')\n",
        "\n",
        "rf_model_tfidf.fit(processed_train_tfidf, train.target)\n",
        "\n",
        "train_predictions_tfidf = rf_model_tfidf.predict(processed_train_tfidf)\n",
        "test_predictions_tfidf = rf_model_tfidf.predict(processed_test_tfidf)\n",
        "\n",
        "# train_predictions_tfidf = rf_model_tfidf.predict_proba(processed_train_tfidf)\n",
        "# test_predictions_tfidf = rf_model_tfidf.predict_proba(processed_test_tfidf)"
      ],
      "execution_count": null,
      "outputs": []
    },
    {
      "cell_type": "code",
      "metadata": {
        "id": "evXTWkjaRK3E"
      },
      "source": [
        "from collections import Counter\n",
        "Counter(test_predictions_tfidf)"
      ],
      "execution_count": null,
      "outputs": []
    },
    {
      "cell_type": "code",
      "metadata": {
        "colab": {
          "base_uri": "https://localhost:8080/"
        },
        "id": "UHyWeeMghG9n",
        "outputId": "b9358eef-5d52-4c18-95ce-b9c16876781f"
      },
      "source": [
        "print(accuracy_score(train_predictions_tfidf, train.target))\n",
        "# print(accuracy_score(test_predictions_tfidf, test.target))"
      ],
      "execution_count": null,
      "outputs": [
        {
          "output_type": "stream",
          "name": "stdout",
          "text": [
            "0.9905445060319531\n"
          ]
        }
      ]
    },
    {
      "cell_type": "code",
      "metadata": {
        "colab": {
          "base_uri": "https://localhost:8080/"
        },
        "id": "c6TXmiIaQB5F",
        "outputId": "3ca6817e-c1d1-4dd0-da67-2378cf5336c7"
      },
      "source": [
        "print(precision_score(test_predictions_tfidf, test.target))\n",
        "print(recall_score(test_predictions_tfidf, test.target))\n",
        "print(f1_score(test_predictions_tfidf, test.target))\n",
        "print(log_loss(test_predictions_tfidf, test.target))"
      ],
      "execution_count": null,
      "outputs": [
        {
          "output_type": "stream",
          "name": "stdout",
          "text": [
            "0.0851063829787234\n",
            "0.3333333333333333\n",
            "0.13559322033898305\n",
            "1.148312893630994\n"
          ]
        }
      ]
    },
    {
      "cell_type": "markdown",
      "metadata": {
        "id": "1gg8AykostiC"
      },
      "source": [
        ""
      ]
    },
    {
      "cell_type": "code",
      "metadata": {
        "id": "ZRve7_CbsxlK"
      },
      "source": [
        ""
      ],
      "execution_count": null,
      "outputs": []
    },
    {
      "cell_type": "markdown",
      "metadata": {
        "id": "qIcyhDfB42H7"
      },
      "source": [
        "##Pipeline"
      ]
    },
    {
      "cell_type": "code",
      "metadata": {
        "id": "J1GiWSGH42jh"
      },
      "source": [
        "tfidf_pipeline = pipeline.Pipeline([('tfidf vectorizer', tfidf_vectorizer), ('model', rf_model_tfidf)])"
      ],
      "execution_count": null,
      "outputs": []
    },
    {
      "cell_type": "code",
      "metadata": {
        "colab": {
          "base_uri": "https://localhost:8080/"
        },
        "id": "IxThYkrm4-n8",
        "outputId": "f3bfbc8d-45ad-4b23-9c4f-de06a89e4b1f"
      },
      "source": [
        "tfidf_pipeline.fit(train.text, train.target)"
      ],
      "execution_count": null,
      "outputs": [
        {
          "output_type": "execute_result",
          "data": {
            "text/plain": [
              "Pipeline(memory=None,\n",
              "         steps=[('tfidf vectorizer',\n",
              "                 TfidfVectorizer(analyzer='word', binary=False,\n",
              "                                 decode_error='strict',\n",
              "                                 dtype=<class 'numpy.float64'>,\n",
              "                                 encoding='utf-8', input='content',\n",
              "                                 lowercase=True, max_df=1.0, max_features=None,\n",
              "                                 min_df=0.05, ngram_range=(1, 1), norm='l2',\n",
              "                                 preprocessor=None, smooth_idf=True,\n",
              "                                 stop_words=None, strip_accents=None,\n",
              "                                 sublinear_tf=False,\n",
              "                                 to...\n",
              "                 RandomForestClassifier(bootstrap=True, ccp_alpha=0.0,\n",
              "                                        class_weight=None, criterion='gini',\n",
              "                                        max_depth=30, max_features='auto',\n",
              "                                        max_leaf_nodes=None, max_samples=None,\n",
              "                                        min_impurity_decrease=0.0,\n",
              "                                        min_impurity_split=None,\n",
              "                                        min_samples_leaf=1, min_samples_split=2,\n",
              "                                        min_weight_fraction_leaf=0.0,\n",
              "                                        n_estimators=200, n_jobs=-1,\n",
              "                                        oob_score=False, random_state=111,\n",
              "                                        verbose=0, warm_start=False))],\n",
              "         verbose=False)"
            ]
          },
          "metadata": {},
          "execution_count": 147
        }
      ]
    },
    {
      "cell_type": "code",
      "metadata": {
        "id": "9vqqHbyI5G6a"
      },
      "source": [
        "pipeline_train_predictions_tfidf = tfidf_pipeline.predict(train.text)\n",
        "pipeline_test_predictions_tfidf = tfidf_pipeline.predict(test.text)"
      ],
      "execution_count": null,
      "outputs": []
    },
    {
      "cell_type": "code",
      "metadata": {
        "colab": {
          "base_uri": "https://localhost:8080/"
        },
        "id": "SMPw7Em85JyS",
        "outputId": "fa4995d0-2fd9-4094-9d3e-65ee60991480"
      },
      "source": [
        "print(accuracy_score(pipeline_train_predictions_tfidf, train.target))\n",
        "print(accuracy_score(pipeline_test_predictions_tfidf, test.target))"
      ],
      "execution_count": null,
      "outputs": [
        {
          "output_type": "stream",
          "name": "stdout",
          "text": [
            "0.986957939354418\n",
            "0.9634941329856584\n"
          ]
        }
      ]
    },
    {
      "cell_type": "markdown",
      "metadata": {
        "id": "Os3jNQhK4unM"
      },
      "source": [
        "##Cross-validation (TF_IDF)"
      ]
    },
    {
      "cell_type": "code",
      "metadata": {
        "id": "PUjY91do4uXy"
      },
      "source": [
        "cv_validation_tfidf = model_selection.cross_val_score(tfidf_pipeline,\n",
        "                                train.text,\n",
        "                                train.target,\n",
        "                                scoring='accuracy',\n",
        "                                cv=5)"
      ],
      "execution_count": null,
      "outputs": []
    },
    {
      "cell_type": "code",
      "metadata": {
        "colab": {
          "base_uri": "https://localhost:8080/"
        },
        "id": "5PczNHtDhHqO",
        "outputId": "d02f13ef-e6eb-45f7-95bb-5e103947afb1"
      },
      "source": [
        "cv_validation_tfidf"
      ],
      "execution_count": null,
      "outputs": [
        {
          "output_type": "execute_result",
          "data": {
            "text/plain": [
              "array([0.96658517, 0.96495518, 0.96903015, 0.96740016, 0.96492659])"
            ]
          },
          "metadata": {},
          "execution_count": 151
        }
      ]
    },
    {
      "cell_type": "code",
      "metadata": {
        "colab": {
          "base_uri": "https://localhost:8080/"
        },
        "id": "hCkQRjs_5rcR",
        "outputId": "246b7645-1bea-4169-a9e7-6fa499969f27"
      },
      "source": [
        "print('Cross validation TFIDF accuracy score')\n",
        "print(f'{cv_validation_tfidf.mean():.3f} +/- {cv_validation_tfidf.std():.3f}')"
      ],
      "execution_count": null,
      "outputs": [
        {
          "output_type": "stream",
          "name": "stdout",
          "text": [
            "Cross validation TFIDF accuracy score\n",
            "0.967 +/- 0.002\n"
          ]
        }
      ]
    },
    {
      "cell_type": "markdown",
      "metadata": {
        "id": "w1AI9R_L-ET2"
      },
      "source": [
        "#Calculation for TEST"
      ]
    },
    {
      "cell_type": "markdown",
      "metadata": {
        "id": "2klH-18JteqF"
      },
      "source": [
        "##Cleaning"
      ]
    },
    {
      "cell_type": "code",
      "metadata": {
        "id": "1mqxMmUctBAV"
      },
      "source": [
        "test = pd.read_csv(\"/content/drive/My Drive/Fraud_Finance_Data/News/test.csv\")"
      ],
      "execution_count": null,
      "outputs": []
    },
    {
      "cell_type": "code",
      "metadata": {
        "colab": {
          "base_uri": "https://localhost:8080/"
        },
        "id": "8lNk6l-7s77E",
        "outputId": "c0477949-16d7-4e1b-c1be-edb0a0386a57"
      },
      "source": [
        "test['text_cleaning'] = test.text.progress_apply(preprocessing)\n"
      ],
      "execution_count": null,
      "outputs": [
        {
          "output_type": "stream",
          "name": "stderr",
          "text": [
            "100%|██████████| 1599/1599 [00:34<00:00, 46.69it/s]\n"
          ]
        }
      ]
    },
    {
      "cell_type": "code",
      "metadata": {
        "colab": {
          "base_uri": "https://localhost:8080/"
        },
        "id": "c8vThfvGs77F",
        "outputId": "cd3687be-d4a6-4b03-c218-39b65b8f640c"
      },
      "source": [
        "test['text_union'] = test.text_cleaning.progress_apply(lambda x: \" \".join(x))"
      ],
      "execution_count": null,
      "outputs": [
        {
          "output_type": "stream",
          "name": "stderr",
          "text": [
            "100%|██████████| 1599/1599 [00:00<00:00, 87466.80it/s]\n"
          ]
        }
      ]
    },
    {
      "cell_type": "code",
      "metadata": {
        "colab": {
          "base_uri": "https://localhost:8080/",
          "height": 173
        },
        "id": "ks_01r3gs77F",
        "outputId": "33775622-da6c-4554-8a8d-869da6428efd"
      },
      "source": [
        "test[['text', 'text_cleaning', 'text_union']].head(4)"
      ],
      "execution_count": null,
      "outputs": [
        {
          "output_type": "execute_result",
          "data": {
            "text/html": [
              "<div>\n",
              "<style scoped>\n",
              "    .dataframe tbody tr th:only-of-type {\n",
              "        vertical-align: middle;\n",
              "    }\n",
              "\n",
              "    .dataframe tbody tr th {\n",
              "        vertical-align: top;\n",
              "    }\n",
              "\n",
              "    .dataframe thead th {\n",
              "        text-align: right;\n",
              "    }\n",
              "</style>\n",
              "<table border=\"1\" class=\"dataframe\">\n",
              "  <thead>\n",
              "    <tr style=\"text-align: right;\">\n",
              "      <th></th>\n",
              "      <th>text</th>\n",
              "      <th>text_cleaning</th>\n",
              "      <th>text_union</th>\n",
              "    </tr>\n",
              "  </thead>\n",
              "  <tbody>\n",
              "    <tr>\n",
              "      <th>0</th>\n",
              "      <td>Акции Match Group растут на 6.8% после включен...</td>\n",
              "      <td>[акция, match, group, расти, на, 6.8, %, после...</td>\n",
              "      <td>акция match group расти на 6.8 % после включен...</td>\n",
              "    </tr>\n",
              "    <tr>\n",
              "      <th>1</th>\n",
              "      <td>8 сентября (ср) в 11:00 мск аналитик «АТОН» вс...</td>\n",
              "      <td>[8, сентябрь, (, сравнить, ), в, 11, :, 00, мс...</td>\n",
              "      <td>8 сентябрь ( сравнить ) в 11 : 00 мск аналитик...</td>\n",
              "    </tr>\n",
              "    <tr>\n",
              "      <th>2</th>\n",
              "      <td>​​ Как и обещали, мы добавили к видео про карт...</td>\n",
              "      <td>[​​, как, и, обещать, ,, мы, добавить, к, виде...</td>\n",
              "      <td>​​ как и обещать , мы добавить к видео про кар...</td>\n",
              "    </tr>\n",
              "    <tr>\n",
              "      <th>3</th>\n",
              "      <td>None</td>\n",
              "      <td>[none]</td>\n",
              "      <td>none</td>\n",
              "    </tr>\n",
              "  </tbody>\n",
              "</table>\n",
              "</div>"
            ],
            "text/plain": [
              "                                                text  ...                                         text_union\n",
              "0  Акции Match Group растут на 6.8% после включен...  ...  акция match group расти на 6.8 % после включен...\n",
              "1  8 сентября (ср) в 11:00 мск аналитик «АТОН» вс...  ...  8 сентябрь ( сравнить ) в 11 : 00 мск аналитик...\n",
              "2  ​​ Как и обещали, мы добавили к видео про карт...  ...  ​​ как и обещать , мы добавить к видео про кар...\n",
              "3                                               None  ...                                               none\n",
              "\n",
              "[4 rows x 3 columns]"
            ]
          },
          "metadata": {},
          "execution_count": 29
        }
      ]
    },
    {
      "cell_type": "code",
      "metadata": {
        "id": "eCqf9LiEs77G"
      },
      "source": [
        "test.head()"
      ],
      "execution_count": null,
      "outputs": []
    },
    {
      "cell_type": "markdown",
      "metadata": {
        "id": "ISCnV0b5tg1s"
      },
      "source": [
        "##TF-IDF Vectorizer"
      ]
    },
    {
      "cell_type": "code",
      "metadata": {
        "colab": {
          "base_uri": "https://localhost:8080/"
        },
        "id": "dXvvUKqntpjF",
        "outputId": "ee66e5a0-ad90-4719-bd53-7bfb1c4e236e"
      },
      "source": [
        "# stopwords = set(nltk_stopwords.words('russian'))\n",
        "# tfidf_vectorizer = TfidfVectorizer(min_df=0.05, stop_words=stopwords)\n",
        "# processed_train_tfidf = tfidf_vectorizer.fit_transform(train.text_union)\n",
        "processed_test_tfidf = tfidf_vectorizer.transform(test.text_union)\n",
        "print(processed_test_tfidf[5])"
      ],
      "execution_count": null,
      "outputs": [
        {
          "output_type": "stream",
          "name": "stdout",
          "text": [
            "  (0, 169)\t0.08029028499473505\n",
            "  (0, 168)\t0.12906516490803066\n",
            "  (0, 156)\t0.1515484014347217\n",
            "  (0, 154)\t0.11664749764730831\n",
            "  (0, 153)\t0.10986611469893864\n",
            "  (0, 130)\t0.1830745413151203\n",
            "  (0, 126)\t0.09844138567922346\n",
            "  (0, 125)\t0.08597735966786565\n",
            "  (0, 113)\t0.25935794458834177\n",
            "  (0, 112)\t0.1199084684753696\n",
            "  (0, 97)\t0.12974778773125506\n",
            "  (0, 94)\t0.2722090109602271\n",
            "  (0, 93)\t0.15034674549774035\n",
            "  (0, 82)\t0.29304673835068495\n",
            "  (0, 73)\t0.08420742763954663\n",
            "  (0, 67)\t0.297224970742657\n",
            "  (0, 66)\t0.25867349552635416\n",
            "  (0, 53)\t0.12120709428090963\n",
            "  (0, 44)\t0.14895307781122222\n",
            "  (0, 41)\t0.2414298130367999\n",
            "  (0, 27)\t0.15034674549774035\n",
            "  (0, 26)\t0.5444247913669503\n",
            "  (0, 21)\t0.14170567224212205\n"
          ]
        }
      ]
    },
    {
      "cell_type": "markdown",
      "metadata": {
        "id": "Sf1eEUOCt6S1"
      },
      "source": [
        "##RandomForestClassifier"
      ]
    },
    {
      "cell_type": "code",
      "metadata": {
        "id": "-ccmpqrlt6S1"
      },
      "source": [
        "# rf_model_tfidf = RandomForestClassifier(n_estimators=200, max_depth=30, random_state=111, n_jobs=-1)\n",
        "# rf_model_tfidf.fit(processed_test_tfidf, train.target)\n",
        "\n",
        "train_predictions_tfidf = rf_model_tfidf.predict_proba(processed_train_tfidf)\n",
        "test_predictions_tfidf = rf_model_tfidf.predict_proba(processed_test_tfidf)"
      ],
      "execution_count": null,
      "outputs": []
    },
    {
      "cell_type": "markdown",
      "metadata": {
        "id": "jhAnyAlTsqyS"
      },
      "source": [
        "###Export"
      ]
    },
    {
      "cell_type": "code",
      "metadata": {
        "id": "hH_IeLIHqj3j",
        "colab": {
          "base_uri": "https://localhost:8080/"
        },
        "outputId": "6169ec69-2e5e-4df1-faba-33b541faa181"
      },
      "source": [
        "test_predictions_tfidf.shape"
      ],
      "execution_count": null,
      "outputs": [
        {
          "output_type": "execute_result",
          "data": {
            "text/plain": [
              "(1599, 2)"
            ]
          },
          "metadata": {},
          "execution_count": 52
        }
      ]
    },
    {
      "cell_type": "code",
      "metadata": {
        "id": "dE7MMaX4p2UC"
      },
      "source": [
        "test['proba'] = [i[1] for i in test_predictions_tfidf]\n",
        "df_answer = test[['url','proba']]\n",
        "df_answer.columns = ['url', 'Expected']"
      ],
      "execution_count": null,
      "outputs": []
    },
    {
      "cell_type": "code",
      "metadata": {
        "colab": {
          "base_uri": "https://localhost:8080/",
          "height": 111
        },
        "id": "ib3zQqC1udGt",
        "outputId": "5c89f9b1-4875-45a0-b6d0-624ce2e6b3d7"
      },
      "source": [
        "df_answer.head(2)"
      ],
      "execution_count": null,
      "outputs": [
        {
          "output_type": "execute_result",
          "data": {
            "text/html": [
              "<div>\n",
              "<style scoped>\n",
              "    .dataframe tbody tr th:only-of-type {\n",
              "        vertical-align: middle;\n",
              "    }\n",
              "\n",
              "    .dataframe tbody tr th {\n",
              "        vertical-align: top;\n",
              "    }\n",
              "\n",
              "    .dataframe thead th {\n",
              "        text-align: right;\n",
              "    }\n",
              "</style>\n",
              "<table border=\"1\" class=\"dataframe\">\n",
              "  <thead>\n",
              "    <tr style=\"text-align: right;\">\n",
              "      <th></th>\n",
              "      <th>url</th>\n",
              "      <th>Expected</th>\n",
              "    </tr>\n",
              "  </thead>\n",
              "  <tbody>\n",
              "    <tr>\n",
              "      <th>0</th>\n",
              "      <td>t.me/headlines_for_traders/9046</td>\n",
              "      <td>0.2</td>\n",
              "    </tr>\n",
              "    <tr>\n",
              "      <th>1</th>\n",
              "      <td>t.me/markettwits/155531</td>\n",
              "      <td>0.0</td>\n",
              "    </tr>\n",
              "  </tbody>\n",
              "</table>\n",
              "</div>"
            ],
            "text/plain": [
              "                               url  Expected\n",
              "0  t.me/headlines_for_traders/9046       0.2\n",
              "1          t.me/markettwits/155531       0.0"
            ]
          },
          "metadata": {},
          "execution_count": 41
        }
      ]
    },
    {
      "cell_type": "code",
      "metadata": {
        "id": "hqRpmCKhqxgg"
      },
      "source": [
        "df_answer.to_csv('/content/drive/MyDrive/Python ML CBR/df_answer_bezki_logreg.csv', index=False)"
      ],
      "execution_count": null,
      "outputs": []
    },
    {
      "cell_type": "markdown",
      "metadata": {
        "id": "0j0O75EYrCbj"
      },
      "source": [
        "#Test1 - LSTM"
      ]
    },
    {
      "cell_type": "code",
      "metadata": {
        "id": "k20YpqgHr6RO"
      },
      "source": [
        "#Tokenizer\n",
        "number_of_words = 10000\n",
        "\n",
        "tokenizer = keras.preprocessing.text.Tokenizer(num_words = number_of_words)"
      ],
      "execution_count": null,
      "outputs": []
    }
  ]
}